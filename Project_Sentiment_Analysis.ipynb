{
 "cells": [
  {
   "cell_type": "markdown",
   "metadata": {
    "colab_type": "text",
    "id": "7FUmaf7NLJCZ"
   },
   "source": [
    "# IMDB Movie Reviews Sentiment Analysis\n",
    "## First project of Pattern Recognition Course\n",
    "\n",
    "Professor : Dr. Analouyi\n",
    "\n",
    "TAs : Mr.Pourbagheri and Mr. Tabatabaee\n",
    "\n",
    "Maryam Sadat Hashemi\n",
    "98722233"
   ]
  },
  {
   "cell_type": "markdown",
   "metadata": {
    "colab_type": "text",
    "id": "TjY4Bd9ALJCc"
   },
   "source": [
    "Add the prerequisites."
   ]
  },
  {
   "cell_type": "code",
   "execution_count": 0,
   "metadata": {
    "colab": {},
    "colab_type": "code",
    "id": "qD_XA7GYLJCd"
   },
   "outputs": [],
   "source": [
    "import numpy as np\n",
    "import pandas as pd\n",
    "import os\n",
    "import re\n",
    "import nltk\n",
    "from nltk.corpus import stopwords\n",
    "from nltk.stem import WordNetLemmatizer \n",
    "from nltk.stem import PorterStemmer\n",
    "import numpy as np\n",
    "import sklearn\n",
    "from matplotlib import pyplot as plt\n",
    "from sklearn.feature_extraction.text import TfidfVectorizer"
   ]
  },
  {
   "cell_type": "markdown",
   "metadata": {
    "colab_type": "text",
    "id": "WygPq6fcLJCg"
   },
   "source": [
    "# Step 1 :  Download and Combine Movie Reviews\n",
    "First of All, we download IMDB reviews from <a href=\"https://ai.stanford.edu/~amaas/data/sentiment/aclImdb_v1.tar.gz\">this</a>. Next, we merge all postive and negative files of train and test into train_pos.txt, train_neg.txt, test_pos.txt and test_neg.txt respectively. Then we save all these 4 file in a directory called movie_data.\n",
    "\n",
    "We use this OS command to merge files:\n",
    "**FOR %f IN (*.txt) DO type %f >> train_neg.txt & echo. >> train_neg.txt**"
   ]
  },
  {
   "cell_type": "markdown",
   "metadata": {
    "colab_type": "text",
    "id": "TJWpOLVOLJCh"
   },
   "source": [
    "# Step 2: Read into Python\n",
    "For most of what we want to do in this walkthrough, we’ll only need our reviews to be in a Python list."
   ]
  },
  {
   "cell_type": "code",
   "execution_count": 56,
   "metadata": {
    "colab": {
     "base_uri": "https://localhost:8080/",
     "height": 34
    },
    "colab_type": "code",
    "id": "fpx93hWkLvtQ",
    "outputId": "ebea156b-1fe1-4f5b-c542-cb27ce9879ce"
   },
   "outputs": [
    {
     "name": "stdout",
     "output_type": "stream",
     "text": [
      "Drive already mounted at /content/drive; to attempt to forcibly remount, call drive.mount(\"/content/drive\", force_remount=True).\n"
     ]
    }
   ],
   "source": [
    "from google.colab import drive\n",
    "drive.mount('/content/drive')"
   ]
  },
  {
   "cell_type": "code",
   "execution_count": 57,
   "metadata": {
    "colab": {
     "base_uri": "https://localhost:8080/",
     "height": 50
    },
    "colab_type": "code",
    "id": "l4ovKsAGLJCi",
    "outputId": "b00b5947-fc20-4822-b1eb-920e4c9436e0"
   },
   "outputs": [
    {
     "name": "stdout",
     "output_type": "stream",
     "text": [
      "full train counts : 50002\n",
      "full test counts : 50002\n"
     ]
    }
   ],
   "source": [
    "full_train = []\n",
    "for line in open('/content/drive/My Drive/Colab Notebooks/movie_data/full_train.txt', 'r',encoding='utf-8'):\n",
    "    full_train.append(line)\n",
    "    \n",
    "full_test = []\n",
    "for line in open('/content/drive/My Drive/Colab Notebooks/movie_data/full_test.txt', 'r',encoding='utf-8'):\n",
    "    full_test.append(line)\n",
    "    \n",
    "print(\"full train counts : \" + str(len(full_train)))\n",
    "print(\"full test counts : \" + str(len(full_test)))\n"
   ]
  },
  {
   "cell_type": "markdown",
   "metadata": {
    "colab_type": "text",
    "id": "BfKIuf_wLJCm"
   },
   "source": [
    "# Step 3: Clean and Preprocess"
   ]
  },
  {
   "cell_type": "markdown",
   "metadata": {
    "colab_type": "text",
    "id": "f2ED-UcQLJCm"
   },
   "source": [
    "The raw text is pretty messy. So before we can do any analytics, we need to clean things up. Here’s one example:"
   ]
  },
  {
   "cell_type": "code",
   "execution_count": 58,
   "metadata": {
    "colab": {
     "base_uri": "https://localhost:8080/",
     "height": 70
    },
    "colab_type": "code",
    "id": "2_47zp9BLJCn",
    "outputId": "b51fb1c8-dfbe-4489-93b3-efc783baf412"
   },
   "outputs": [
    {
     "name": "stdout",
     "output_type": "stream",
     "text": [
      "I was prepared for a turgid talky soap opera cum travelogue, but was pleased to find a fast-paced script, an underlying moral, excellent portrayals from all the actors, especially Peter Finch, amazing special effects, suspense, and beautiful cinematography--there's even a shot of the majestic stone Buddhas recently destroyed by the Taliban. Not to mention Elizabeth Taylor at her most gloriously beautiful and sympathetic, before she gave in to the gaspy hysterics that marred her later work. All the supporting players round it out, and I do wonder who trained all those elephants.<br /><br />Speaking of the stone-Buddha sequence, you really can discern that it's Vivien Leigh in the long shots. Her shape and the way she moves is distinct from Taylor's. The only thing marring that sequence are the poorly done process shots, where the background moves by much too fast for horses at a walk.<br /><br />If you want a thought-provoking film that is beautiful to watch and never boring, spend a few hours with Elephant Walk. \n",
      "\n"
     ]
    }
   ],
   "source": [
    "print(full_train[100])"
   ]
  },
  {
   "cell_type": "markdown",
   "metadata": {
    "colab_type": "text",
    "id": "PIwlyzzQLJCp"
   },
   "source": [
    "So, we remove these characters \\ ; : ! ' ? \" ( ) \\[ \\] & % * @ # $ and numbers from reviews and we also replace these characters -, / and HTML tags with space."
   ]
  },
  {
   "cell_type": "code",
   "execution_count": 59,
   "metadata": {
    "colab": {
     "base_uri": "https://localhost:8080/",
     "height": 50
    },
    "colab_type": "code",
    "id": "3un5DFTcLJCq",
    "outputId": "7c9c00ff-5b7f-4a1f-b6d2-09cdd8101a61"
   },
   "outputs": [
    {
     "name": "stdout",
     "output_type": "stream",
     "text": [
      "full train counts : 50002\n",
      "full test counts : 50002\n"
     ]
    }
   ],
   "source": [
    "REPLACE_NO_SPACE = re.compile(\"[\\\\;:!,\\\"()\\[\\]&%*@#$0-9]\")\n",
    "REPLACE_WITH_SPACE = re.compile(\"(<.*?>)|<!--.*?-->|(\\-)|(\\/)\")\n",
    "\n",
    "def preprocess_reviews(reviews):\n",
    "    reviews = [REPLACE_NO_SPACE.sub(\"\", line.lower()) for line in reviews]\n",
    "    reviews = [REPLACE_WITH_SPACE.sub(\" \", line) for line in reviews]\n",
    "    \n",
    "    return reviews\n",
    "\n",
    "full_train = preprocess_reviews(full_train)\n",
    "full_test = preprocess_reviews(full_test)\n",
    "\n",
    "print(\"full train counts : \" + str(len(full_train)))\n",
    "print(\"full test counts : \" + str(len(full_test)))"
   ]
  },
  {
   "cell_type": "markdown",
   "metadata": {
    "colab_type": "text",
    "id": "wClQ-6dLLJCs"
   },
   "source": [
    "And this is what the same review looks like now:"
   ]
  },
  {
   "cell_type": "code",
   "execution_count": 60,
   "metadata": {
    "colab": {
     "base_uri": "https://localhost:8080/",
     "height": 70
    },
    "colab_type": "code",
    "id": "Ow-NkPa_LJCt",
    "outputId": "9f0416af-35d6-4c12-e23e-0788b2e08447"
   },
   "outputs": [
    {
     "name": "stdout",
     "output_type": "stream",
     "text": [
      "i was prepared for a turgid talky soap opera cum travelogue but was pleased to find a fast paced script an underlying moral excellent portrayals from all the actors especially peter finch amazing special effects suspense and beautiful cinematography  there's even a shot of the majestic stone buddhas recently destroyed by the taliban. not to mention elizabeth taylor at her most gloriously beautiful and sympathetic before she gave in to the gaspy hysterics that marred her later work. all the supporting players round it out and i do wonder who trained all those elephants.  speaking of the stone buddha sequence you really can discern that it's vivien leigh in the long shots. her shape and the way she moves is distinct from taylor's. the only thing marring that sequence are the poorly done process shots where the background moves by much too fast for horses at a walk.  if you want a thought provoking film that is beautiful to watch and never boring spend a few hours with elephant walk. \n",
      "\n"
     ]
    }
   ],
   "source": [
    "print(full_train[100])"
   ]
  },
  {
   "cell_type": "markdown",
   "metadata": {
    "colab_type": "text",
    "id": "Q32_fPztLJCv"
   },
   "source": [
    "# Step 4: Vectorization and Feature Extraction\n",
    "In order for this data to make sense to our machine learning algorithms, we’ll need to convert each review to a numeric representation, which we call vectorization."
   ]
  },
  {
   "cell_type": "markdown",
   "metadata": {
    "colab_type": "text",
    "id": "KycU4VN6LJCw"
   },
   "source": [
    "## Bag of Words\n",
    "Bag of Words (BOW) is a method to extract features from text documents. These features can be used for training machine learning algorithms. It creates a vocabulary of all the unique words occurring in all the documents in the training set. \n",
    "\n",
    "In simple terms, it’s a collection of words to represent a sentence with word count and mostly disregarding the order in which they appear. \n",
    "\n",
    "We use CountVectorizer() method from sklearn modules to obtain BOW model of our training set. This method convert a collection of text documents to a matrix of token counts. we set min_df to 10 in order to ignore terms that have a document frequency strictly lower than 10. "
   ]
  },
  {
   "cell_type": "code",
   "execution_count": 10,
   "metadata": {
    "colab": {
     "base_uri": "https://localhost:8080/",
     "height": 34
    },
    "colab_type": "code",
    "id": "qQ6G-natLJCx",
    "outputId": "81779627-94de-4f49-c658-f2b8bf6634b2"
   },
   "outputs": [
    {
     "name": "stdout",
     "output_type": "stream",
     "text": [
      "Unique Words in BOW model: 5000\n"
     ]
    }
   ],
   "source": [
    "cv =  sklearn.feature_extraction.text.CountVectorizer(max_features=5000)\n",
    "X_train_BOW = cv.fit_transform(full_train)\n",
    "X_train_BOW = X_train_BOW.toarray()\n",
    "print(\"Unique Words in BOW model: \" + str(len(X_train_BOW[0])))"
   ]
  },
  {
   "cell_type": "code",
   "execution_count": 11,
   "metadata": {
    "colab": {
     "base_uri": "https://localhost:8080/",
     "height": 50
    },
    "colab_type": "code",
    "id": "gH3a6_Z8LJC1",
    "outputId": "3523d770-d88c-4bfd-c708-3e60b422b250"
   },
   "outputs": [
    {
     "name": "stdout",
     "output_type": "stream",
     "text": [
      "5000\n",
      "Unique Words in BOW model: 5000\n"
     ]
    }
   ],
   "source": [
    "feature_names = cv.get_feature_names()\n",
    "vocab ={}\n",
    "for value,key in enumerate(feature_names):\n",
    "    vocab[key] = value\n",
    "print(len(vocab))\n",
    "\n",
    "cv =  sklearn.feature_extraction.text.CountVectorizer(vocabulary = vocab)\n",
    "cv.fit(full_test)\n",
    "X_test_BOW = cv.transform(full_test)\n",
    "X_test_BOW = X_test_BOW.toarray()\n",
    "print(\"Unique Words in BOW model: \" + str(len(X_test_BOW[0])))"
   ]
  },
  {
   "cell_type": "markdown",
   "metadata": {
    "colab_type": "text",
    "id": "evg2FxuFLJC3"
   },
   "source": [
    "## BERT Embedding"
   ]
  },
  {
   "cell_type": "code",
   "execution_count": 61,
   "metadata": {
    "colab": {
     "base_uri": "https://localhost:8080/",
     "height": 423
    },
    "colab_type": "code",
    "id": "D2aI6djgLJC4",
    "outputId": "118926dd-c073-4675-ff51-d8806a5161fb"
   },
   "outputs": [
    {
     "name": "stdout",
     "output_type": "stream",
     "text": [
      "Requirement already satisfied: sentence-transformers in /usr/local/lib/python3.6/dist-packages (0.2.3)\n",
      "Requirement already satisfied: scipy in /usr/local/lib/python3.6/dist-packages (from sentence-transformers) (1.3.1)\n",
      "Requirement already satisfied: nltk in /usr/local/lib/python3.6/dist-packages (from sentence-transformers) (3.2.5)\n",
      "Requirement already satisfied: tqdm in /usr/local/lib/python3.6/dist-packages (from sentence-transformers) (4.28.1)\n",
      "Requirement already satisfied: pytorch-transformers==1.1.0 in /usr/local/lib/python3.6/dist-packages (from sentence-transformers) (1.1.0)\n",
      "Requirement already satisfied: scikit-learn in /usr/local/lib/python3.6/dist-packages (from sentence-transformers) (0.21.3)\n",
      "Requirement already satisfied: torch>=1.0.1 in /usr/local/lib/python3.6/dist-packages (from sentence-transformers) (1.3.1+cu100)\n",
      "Requirement already satisfied: numpy in /usr/local/lib/python3.6/dist-packages (from sentence-transformers) (1.17.3)\n",
      "Requirement already satisfied: six in /usr/local/lib/python3.6/dist-packages (from nltk->sentence-transformers) (1.12.0)\n",
      "Requirement already satisfied: sentencepiece in /usr/local/lib/python3.6/dist-packages (from pytorch-transformers==1.1.0->sentence-transformers) (0.1.83)\n",
      "Requirement already satisfied: boto3 in /usr/local/lib/python3.6/dist-packages (from pytorch-transformers==1.1.0->sentence-transformers) (1.10.13)\n",
      "Requirement already satisfied: requests in /usr/local/lib/python3.6/dist-packages (from pytorch-transformers==1.1.0->sentence-transformers) (2.21.0)\n",
      "Requirement already satisfied: regex in /usr/local/lib/python3.6/dist-packages (from pytorch-transformers==1.1.0->sentence-transformers) (2019.11.1)\n",
      "Requirement already satisfied: joblib>=0.11 in /usr/local/lib/python3.6/dist-packages (from scikit-learn->sentence-transformers) (0.14.0)\n",
      "Requirement already satisfied: s3transfer<0.3.0,>=0.2.0 in /usr/local/lib/python3.6/dist-packages (from boto3->pytorch-transformers==1.1.0->sentence-transformers) (0.2.1)\n",
      "Requirement already satisfied: botocore<1.14.0,>=1.13.13 in /usr/local/lib/python3.6/dist-packages (from boto3->pytorch-transformers==1.1.0->sentence-transformers) (1.13.13)\n",
      "Requirement already satisfied: jmespath<1.0.0,>=0.7.1 in /usr/local/lib/python3.6/dist-packages (from boto3->pytorch-transformers==1.1.0->sentence-transformers) (0.9.4)\n",
      "Requirement already satisfied: urllib3<1.25,>=1.21.1 in /usr/local/lib/python3.6/dist-packages (from requests->pytorch-transformers==1.1.0->sentence-transformers) (1.24.3)\n",
      "Requirement already satisfied: certifi>=2017.4.17 in /usr/local/lib/python3.6/dist-packages (from requests->pytorch-transformers==1.1.0->sentence-transformers) (2019.9.11)\n",
      "Requirement already satisfied: idna<2.9,>=2.5 in /usr/local/lib/python3.6/dist-packages (from requests->pytorch-transformers==1.1.0->sentence-transformers) (2.8)\n",
      "Requirement already satisfied: chardet<3.1.0,>=3.0.2 in /usr/local/lib/python3.6/dist-packages (from requests->pytorch-transformers==1.1.0->sentence-transformers) (3.0.4)\n",
      "Requirement already satisfied: python-dateutil<2.8.1,>=2.1; python_version >= \"2.7\" in /usr/local/lib/python3.6/dist-packages (from botocore<1.14.0,>=1.13.13->boto3->pytorch-transformers==1.1.0->sentence-transformers) (2.6.1)\n",
      "Requirement already satisfied: docutils<0.16,>=0.10 in /usr/local/lib/python3.6/dist-packages (from botocore<1.14.0,>=1.13.13->boto3->pytorch-transformers==1.1.0->sentence-transformers) (0.15.2)\n"
     ]
    }
   ],
   "source": [
    "!pip install sentence-transformers"
   ]
  },
  {
   "cell_type": "code",
   "execution_count": 0,
   "metadata": {
    "colab": {},
    "colab_type": "code",
    "id": "LtMUGzhSPWlf"
   },
   "outputs": [],
   "source": [
    "from sentence_transformers import SentenceTransformer\n",
    "from nltk.tokenize import sent_tokenize\n",
    "\n",
    "def bert_embedding(dataset):\n",
    "  nltk.download('punkt')\n",
    "  model = SentenceTransformer('bert-base-nli-mean-tokens')\n",
    "  embedding = []\n",
    "  for data in dataset:\n",
    "    sentences = sent_tokenize(data)\n",
    "    sentence_embeddings = model.encode(sentences)\n",
    "    mean_sentence_embeddings = np.average(sentence_embeddings, axis=0)\n",
    "    embedding.append(mean_sentence_embeddings)\n",
    "  embedding = np.asarray(embedding, dtype=np.float32)\n",
    "  print(embedding.shape)\n",
    "  return embedding"
   ]
  },
  {
   "cell_type": "code",
   "execution_count": 63,
   "metadata": {
    "colab": {
     "base_uri": "https://localhost:8080/",
     "height": 67
    },
    "colab_type": "code",
    "id": "YK6E3xuHicNg",
    "outputId": "b102d854-7002-4f23-ef31-579dac7c7428"
   },
   "outputs": [
    {
     "name": "stdout",
     "output_type": "stream",
     "text": [
      "[nltk_data] Downloading package punkt to /root/nltk_data...\n",
      "[nltk_data]   Package punkt is already up-to-date!\n",
      "(50002, 768)\n"
     ]
    }
   ],
   "source": [
    "embedding = bert_embedding(full_train)\n",
    "np.savetxt('/content/drive/My Drive/bertembeddings_train.txt',embedding)"
   ]
  },
  {
   "cell_type": "code",
   "execution_count": 64,
   "metadata": {
    "colab": {
     "base_uri": "https://localhost:8080/",
     "height": 67
    },
    "colab_type": "code",
    "id": "D7_ctmLeifhD",
    "outputId": "f302e1d7-541e-4c66-e96b-a31b32823b59"
   },
   "outputs": [
    {
     "name": "stdout",
     "output_type": "stream",
     "text": [
      "[nltk_data] Downloading package punkt to /root/nltk_data...\n",
      "[nltk_data]   Package punkt is already up-to-date!\n",
      "(50002, 768)\n"
     ]
    }
   ],
   "source": [
    "embedding = bert_embedding(full_test)\n",
    "np.savetxt('/content/drive/My Drive/bertembeddings_test.txt',embedding)"
   ]
  },
  {
   "cell_type": "markdown",
   "metadata": {
    "colab_type": "text",
    "id": "O_hFrSBqLJDA"
   },
   "source": [
    "## TF_IDF with stop words(optional)"
   ]
  },
  {
   "cell_type": "code",
   "execution_count": 0,
   "metadata": {
    "colab": {},
    "colab_type": "code",
    "id": "WpppbqwcLJDB",
    "outputId": "69588a23-7593-4684-e80e-4887a0242744"
   },
   "outputs": [
    {
     "name": "stdout",
     "output_type": "stream",
     "text": [
      "Unique Words in tf_idf model: 1783\n"
     ]
    }
   ],
   "source": [
    "vectorizer = TfidfVectorizer(max_df = 0.99,min_df = 0.01)\n",
    "X_train_Tfidf = vectorizer.fit_transform(full_train)\n",
    "X_train_Tfidf = X_train_Tfidf.toarray()\n",
    "print(\"Unique Words in tf_idf model: \" + str(len(X_train_Tfidf[0])))"
   ]
  },
  {
   "cell_type": "code",
   "execution_count": 0,
   "metadata": {
    "colab": {},
    "colab_type": "code",
    "id": "bEAUAMA6LJDD",
    "outputId": "ec666d10-e55c-4712-f149-c099d36f064a"
   },
   "outputs": [
    {
     "name": "stdout",
     "output_type": "stream",
     "text": [
      "1783\n",
      "Unique Words in tf_idf model: 1783\n"
     ]
    }
   ],
   "source": [
    "feature_names = vectorizer.get_feature_names()\n",
    "vocab ={}\n",
    "for value,key in enumerate(feature_names):\n",
    "    vocab[key] = value\n",
    "print(len(vocab))\n",
    "\n",
    "vectorizer =  TfidfVectorizer(vocabulary = vocab)\n",
    "X_test_Tfidf = vectorizer.fit_transform(full_test)\n",
    "X_test_Tfidf = X_test_Tfidf.toarray()\n",
    "print(\"Unique Words in tf_idf model: \" + str(len(X_test_Tfidf[0])))"
   ]
  },
  {
   "cell_type": "markdown",
   "metadata": {
    "colab_type": "text",
    "id": "Dz27pR2vLJDG"
   },
   "source": [
    "## TF_IDF without stop words(optional)"
   ]
  },
  {
   "cell_type": "code",
   "execution_count": 0,
   "metadata": {
    "colab": {},
    "colab_type": "code",
    "id": "ivF8DAvNLJDG",
    "outputId": "16aaeade-180f-475a-f392-47882c5b2f4c"
   },
   "outputs": [
    {
     "name": "stdout",
     "output_type": "stream",
     "text": [
      "full train counts : 50002\n",
      "full test counts : 50002\n"
     ]
    }
   ],
   "source": [
    "def remove_stopWords(dataset):\n",
    "    stop_words = stopwords.words('english')\n",
    "    newdataset = []\n",
    "    for data in dataset: \n",
    "        words = nltk.word_tokenize(data)\n",
    "        newdata = \"\"\n",
    "        for w in words:\n",
    "            if w not in stop_words:\n",
    "                newdata += w + \" \"\n",
    "        newdataset.append(newdata)\n",
    "    return newdataset\n",
    "    \n",
    "full_train_nonstop = remove_stopWords(full_train)\n",
    "full_test_nonstop = remove_stopWords(full_test)\n",
    "\n",
    "print(\"full train counts : \" + str(len(full_train_nonstop)))\n",
    "print(\"full test counts : \" + str(len(full_test_nonstop)))   "
   ]
  },
  {
   "cell_type": "code",
   "execution_count": 0,
   "metadata": {
    "colab": {},
    "colab_type": "code",
    "id": "0H5pVuBSLJDJ",
    "outputId": "7acf531c-c8f8-40df-cc61-c3ddf1e6485b"
   },
   "outputs": [
    {
     "name": "stdout",
     "output_type": "stream",
     "text": [
      "prepared turgid talky soap opera cum travelogue pleased find fast paced script underlying moral excellent portrayals actors especially peter finch amazing special effects suspense beautiful cinematography 's even shot majestic stone buddhas recently destroyed taliban . mention elizabeth taylor gloriously beautiful sympathetic gave gaspy hysterics marred later work . supporting players round wonder trained elephants . speaking stone buddha sequence really discern 's vivien leigh long shots . shape way moves distinct taylor 's . thing marring sequence poorly done process shots background moves much fast horses walk . want thought provoking film beautiful watch never boring spend hours elephant walk . \n"
     ]
    }
   ],
   "source": [
    "print(full_train_nonstop[100])"
   ]
  },
  {
   "cell_type": "code",
   "execution_count": 0,
   "metadata": {
    "colab": {},
    "colab_type": "code",
    "id": "GeV1ChN0LJDL",
    "outputId": "ab02171c-af4a-4e7b-aba1-14a64958a694"
   },
   "outputs": [
    {
     "name": "stdout",
     "output_type": "stream",
     "text": [
      "Unique Words in tf_idf model: 1658\n"
     ]
    }
   ],
   "source": [
    "vectorizer = TfidfVectorizer(max_df = 0.99,min_df = 0.01)\n",
    "X_train_Tfidfnonstop = vectorizer.fit_transform(full_train_nonstop)\n",
    "X_train_Tfidfnonstop = X_train_Tfidfnonstop.toarray()\n",
    "print(\"Unique Words in tf_idf model: \" + str(len(X_train_Tfidfnonstop[0])))"
   ]
  },
  {
   "cell_type": "code",
   "execution_count": 0,
   "metadata": {
    "colab": {},
    "colab_type": "code",
    "id": "ny9orXhsLJDN",
    "outputId": "58aa0440-77dd-4166-fdf4-8f145fbc26a3"
   },
   "outputs": [
    {
     "name": "stdout",
     "output_type": "stream",
     "text": [
      "1658\n",
      "Unique Words in tf_idf model: 1658\n"
     ]
    }
   ],
   "source": [
    "feature_names = vectorizer.get_feature_names()\n",
    "vocab ={}\n",
    "for value,key in enumerate(feature_names):\n",
    "    vocab[key] = value\n",
    "print(len(vocab))\n",
    "\n",
    "vectorizer =  TfidfVectorizer(vocabulary = vocab)\n",
    "X_test_Tfidfnonstop = vectorizer.fit_transform(full_test_nonstop)\n",
    "X_test_Tfidfnonstop = X_test_Tfidfnonstop.toarray()\n",
    "print(\"Unique Words in tf_idf model: \" + str(len(X_test_Tfidfnonstop[0])))"
   ]
  },
  {
   "cell_type": "markdown",
   "metadata": {
    "colab_type": "text",
    "id": "-7_VX1EuLJDR"
   },
   "source": [
    "## Word2Vec with stop words(optional)"
   ]
  },
  {
   "cell_type": "code",
   "execution_count": 0,
   "metadata": {
    "colab": {},
    "colab_type": "code",
    "id": "oPytxgESLJDT"
   },
   "outputs": [],
   "source": []
  },
  {
   "cell_type": "markdown",
   "metadata": {
    "colab_type": "text",
    "id": "LgjHplpNLJDW"
   },
   "source": [
    "## Word2Vec without stop words(optional)"
   ]
  },
  {
   "cell_type": "code",
   "execution_count": 0,
   "metadata": {
    "colab": {},
    "colab_type": "code",
    "id": "ORTornHALJDX"
   },
   "outputs": [],
   "source": []
  },
  {
   "cell_type": "markdown",
   "metadata": {
    "colab_type": "text",
    "id": "QtK18Q3RLJDa"
   },
   "source": [
    "# Step 5: Build Classifier\n",
    "Now that we’ve transformed our dataset into a format suitable for modeling, we can start building classifiers."
   ]
  },
  {
   "cell_type": "markdown",
   "metadata": {
    "colab_type": "text",
    "id": "J4qvJaB6LJDa"
   },
   "source": [
    "## Naive Bayes"
   ]
  },
  {
   "cell_type": "code",
   "execution_count": 0,
   "metadata": {
    "colab": {},
    "colab_type": "code",
    "id": "CLK4lfChLJDb"
   },
   "outputs": [],
   "source": [
    "from sklearn.naive_bayes import MultinomialNB\n",
    "def NaiveBayes(X_train, Y_train, X_test, Y_test):  \n",
    "    clf = MultinomialNB()\n",
    "    clf.fit(X_train, Y_test)\n",
    "    Y_predict = clf.predict(X_test)\n",
    "    return Y_predict"
   ]
  },
  {
   "cell_type": "code",
   "execution_count": 0,
   "metadata": {
    "colab": {},
    "colab_type": "code",
    "id": "ZDdCb5SSAWg5"
   },
   "outputs": [],
   "source": [
    "from sklearn.naive_bayes import GaussianNB\n",
    "def NaiveBayes_Gaussian(X_train, Y_train, X_test, Y_test):  \n",
    "    clf = GaussianNB()\n",
    "    clf.fit(X_train, Y_test)\n",
    "    Y_predict = clf.predict(X_test)\n",
    "    return Y_predict"
   ]
  },
  {
   "cell_type": "markdown",
   "metadata": {
    "colab_type": "text",
    "id": "aH8O--WNLJDe"
   },
   "source": [
    "## SVM"
   ]
  },
  {
   "cell_type": "code",
   "execution_count": 0,
   "metadata": {
    "colab": {},
    "colab_type": "code",
    "id": "rJXQPAVgLJDe"
   },
   "outputs": [],
   "source": [
    "def SVM(X_train, Y_train, X_test, Y_test):\n",
    "    clf = sklearn.svm.SVC(kernel='linear')\n",
    "    clf.fit(X_train, Y_train) \n",
    "    Y_predict = clf.predict(X_test)\n",
    "    return Y_predict\n"
   ]
  },
  {
   "cell_type": "markdown",
   "metadata": {
    "colab_type": "text",
    "id": "JxNxmUIhLJDg"
   },
   "source": [
    "## Decision Tree"
   ]
  },
  {
   "cell_type": "code",
   "execution_count": 0,
   "metadata": {
    "colab": {},
    "colab_type": "code",
    "id": "LqmUGXoPLJDh"
   },
   "outputs": [],
   "source": [
    "from sklearn.tree import DecisionTreeClassifier\n",
    "def decision_tree(X_train, Y_train, X_test, Y_test):\n",
    "    clf = DecisionTreeClassifier()\n",
    "    clf = clf.fit(X_train, Y_train)\n",
    "    Y_predict = clf.predict(X_test)\n",
    "    return Y_predict\n",
    "    "
   ]
  },
  {
   "cell_type": "markdown",
   "metadata": {
    "colab_type": "text",
    "id": "b8bZftxnLJDj"
   },
   "source": [
    "## Random Forest"
   ]
  },
  {
   "cell_type": "code",
   "execution_count": 0,
   "metadata": {
    "colab": {},
    "colab_type": "code",
    "id": "DgH2aTDRLJDk"
   },
   "outputs": [],
   "source": [
    "from sklearn.ensemble import RandomForestClassifier\n",
    "def random_forest(X_train, Y_train, X_test, Y_test):\n",
    "    clf = RandomForestClassifier()\n",
    "    clf = clf.fit(X_train, Y_train)\n",
    "    Y_predict = clf.predict(X_test) \n",
    "    return Y_predict"
   ]
  },
  {
   "cell_type": "markdown",
   "metadata": {
    "colab_type": "text",
    "id": "Woc0I1FfLJDp"
   },
   "source": [
    "# Step 6: Results"
   ]
  },
  {
   "cell_type": "markdown",
   "metadata": {
    "colab_type": "text",
    "id": "ufixTqHULJDq"
   },
   "source": [
    "### Confusion Matrix\n",
    "This function prints and plots the confusion matrix. Normalization can be applied by setting `normalize=True`."
   ]
  },
  {
   "cell_type": "code",
   "execution_count": 0,
   "metadata": {
    "colab": {},
    "colab_type": "code",
    "id": "b-c4F7zCLJDr"
   },
   "outputs": [],
   "source": [
    "def plot_confusion_matrix(y_test, y_predict,\n",
    "                          normalize=False,\n",
    "                          title=None,\n",
    "                          cmap=plt.cm.Blues):\n",
    "    if not title:\n",
    "        if normalize:\n",
    "            title = 'Normalized confusion matrix'\n",
    "        else:\n",
    "            title = 'Confusion matrix, without normalization'\n",
    "            \n",
    "    # Compute confusion matrix\n",
    "    cm = sklearn.metrics.confusion_matrix(y_test, y_predict)\n",
    "    \n",
    "    if normalize:\n",
    "        cm = cm.astype('float') / cm.sum(axis=1)[:, np.newaxis]\n",
    "        print(\"Normalized confusion matrix\")\n",
    "    else:\n",
    "        print('Confusion matrix, without normalization')\n",
    "\n",
    "    print(cm)\n",
    "    \n",
    "    fig, ax = plt.subplots()\n",
    "    im = ax.imshow(cm, interpolation='nearest', cmap=cmap)\n",
    "    ax.figure.colorbar(im, ax=ax)\n",
    "    \n",
    "    # We want to show all ticks...\n",
    "    ax.set(xticks=np.arange(cm.shape[1]),\n",
    "           yticks=np.arange(cm.shape[0]),\n",
    "           title=title,\n",
    "           ylabel='True label',\n",
    "           xlabel='Predicted label')\n",
    "\n",
    "    # Rotate the tick labels and set their alignment.\n",
    "    plt.setp(ax.get_xticklabels(), rotation=45, ha=\"right\",\n",
    "             rotation_mode=\"anchor\")\n",
    "\n",
    "    # Loop over data dimensions and create text annotations.\n",
    "    fmt = '.2f' if normalize else 'd'\n",
    "    thresh = cm.max() / 2.\n",
    "    for i in range(cm.shape[0]):\n",
    "        for j in range(cm.shape[1]):\n",
    "            ax.text(j, i, format(cm[i, j], fmt),\n",
    "                    ha=\"center\", va=\"center\",\n",
    "                    color=\"white\" if cm[i, j] > thresh else \"black\")\n",
    "    fig.tight_layout()\n",
    "    plt.show() \n",
    "    return ax    "
   ]
  },
  {
   "cell_type": "markdown",
   "metadata": {
    "colab_type": "text",
    "id": "FkvelR1ELJDt"
   },
   "source": [
    "### ROC\n",
    "Receiver operating characteristic.\n",
    "ROC curves typically feature true positive rate on the Y axis, and false positive rate on the X axis. This means that the top left corner of the plot is the “ideal” point - a false positive rate of zero, and a true positive rate of one. This is not very realistic, but it does mean that a larger area under the curve (AUC) is usually better.\n",
    "\n",
    "The “steepness” of ROC curves is also important, since it is ideal to maximize the true positive rate while minimizing the false positive rate."
   ]
  },
  {
   "cell_type": "code",
   "execution_count": 0,
   "metadata": {
    "colab": {},
    "colab_type": "code",
    "id": "3_S1OEdlLJDu"
   },
   "outputs": [],
   "source": [
    "def calc_ROC(Y_predict, Y_test):\n",
    "    return sklearn.metrics.roc_curve(Y_test, Y_predict)"
   ]
  },
  {
   "cell_type": "markdown",
   "metadata": {
    "colab_type": "text",
    "id": "iCNyp1UOLJD0"
   },
   "source": [
    "### AUC\n",
    "Area Under Cover"
   ]
  },
  {
   "cell_type": "code",
   "execution_count": 0,
   "metadata": {
    "colab": {},
    "colab_type": "code",
    "id": "zy5_1J6dLJD0"
   },
   "outputs": [],
   "source": [
    "def calc_AUC(Y_predict, Y_test):\n",
    "    fpr, tpr, thresholds = sklearn.metrics.roc_curve(Y_test, Y_predict)\n",
    "    return sklearn.metrics.auc(fpr, tpr)"
   ]
  },
  {
   "cell_type": "markdown",
   "metadata": {
    "colab_type": "text",
    "id": "cK-H_92KLJD3"
   },
   "source": [
    "### Precision\n",
    "The precision is the ratio tp / (tp + fp) where tp is the number of true positives and fp the number of false positives. The precision is intuitively the ability of the classifier not to label as positive a sample that is negative.\n",
    "\n",
    "The best value is 1 and the worst value is 0."
   ]
  },
  {
   "cell_type": "code",
   "execution_count": 0,
   "metadata": {
    "colab": {},
    "colab_type": "code",
    "id": "jUL140Y8LJD4"
   },
   "outputs": [],
   "source": [
    "def calc_precision(Y_predict, Y_test):\n",
    "    return sklearn.metrics.precision_score(Y_test, Y_predict)"
   ]
  },
  {
   "cell_type": "markdown",
   "metadata": {
    "colab_type": "text",
    "id": "AbrzGI-XLJD6"
   },
   "source": [
    "### Recall\n",
    "The recall is the ratio tp / (tp + fn) where tp is the number of true positives and fn the number of false negatives. The recall is intuitively the ability of the classifier to find all the positive samples.\n",
    "\n",
    "The best value is 1 and the worst value is 0."
   ]
  },
  {
   "cell_type": "code",
   "execution_count": 0,
   "metadata": {
    "colab": {},
    "colab_type": "code",
    "id": "_0mYn22DLJD6"
   },
   "outputs": [],
   "source": [
    "def calc_recall(Y_predict, Y_test):\n",
    "    return sklearn.metrics.recall_score(Y_test, Y_predict)"
   ]
  },
  {
   "cell_type": "markdown",
   "metadata": {
    "colab_type": "text",
    "id": "gnvzlze9LJD8"
   },
   "source": [
    "### f1_score\n",
    "The F1 score can be interpreted as a weighted average of the precision and recall, where an F1 score reaches its best value at 1 and worst score at 0. The relative contribution of precision and recall to the F1 score are equal. The formula for the F1 score is:\n",
    "\n",
    "$$F1 = \\frac {2 * (precision * recall)}{(precision + recall)}$$"
   ]
  },
  {
   "cell_type": "code",
   "execution_count": 0,
   "metadata": {
    "colab": {},
    "colab_type": "code",
    "id": "SwluDR8RLJD8"
   },
   "outputs": [],
   "source": [
    "def calc_f1score(Y_predict, Y_test):\n",
    "    return sklearn.metrics.f1_score(Y_test, Y_predict)"
   ]
  },
  {
   "cell_type": "markdown",
   "metadata": {
    "colab_type": "text",
    "id": "bfqNkvQoLJD_"
   },
   "source": [
    "# Train all classifier for BOW\n",
    "Now we train all classifiers with the training and test set which is acheived from BOW."
   ]
  },
  {
   "cell_type": "code",
   "execution_count": 75,
   "metadata": {
    "colab": {
     "base_uri": "https://localhost:8080/",
     "height": 50
    },
    "colab_type": "code",
    "id": "DXVW6YcALJEA",
    "outputId": "53a94bb4-ab44-46a9-d9e5-befabd71244e"
   },
   "outputs": [
    {
     "name": "stdout",
     "output_type": "stream",
     "text": [
      "50002\n",
      "50002\n"
     ]
    }
   ],
   "source": [
    "Y_train = np.array(np.ones(25001).tolist() + np.zeros(25001).tolist())\n",
    "Y_test = np.array(np.ones(25001).tolist() + np.zeros(25001).tolist())\n",
    "\n",
    "print(len(Y_train))\n",
    "print(len(Y_test))"
   ]
  },
  {
   "cell_type": "code",
   "execution_count": 0,
   "metadata": {
    "colab": {},
    "colab_type": "code",
    "id": "XvrGhXouLJED"
   },
   "outputs": [],
   "source": [
    "Y_predict =  NaiveBayes(X_train_BOW, Y_train, X_train_BOW, Y_test)"
   ]
  },
  {
   "cell_type": "code",
   "execution_count": 24,
   "metadata": {
    "colab": {
     "base_uri": "https://localhost:8080/",
     "height": 465
    },
    "colab_type": "code",
    "id": "MllcU7VnLJEG",
    "outputId": "97620964-fd56-4481-c477-06b00611db65"
   },
   "outputs": [
    {
     "name": "stdout",
     "output_type": "stream",
     "text": [
      "BOW + NaiveBayes : \n",
      "Confusion Matrix = \n",
      "Confusion matrix, without normalization\n",
      "[[21568  3433]\n",
      " [ 4358 20643]]\n"
     ]
    },
    {
     "data": {
      "image/png": "[encoded data removed]",
      "text/plain": [
       "<Figure size 432x288 with 2 Axes>"
      ]
     },
     "metadata": {
      "tags": []
     },
     "output_type": "display_data"
    },
    {
     "name": "stdout",
     "output_type": "stream",
     "text": [
      "ROC = (array([0.        , 0.13731451, 1.        ]), array([0.        , 0.82568697, 1.        ]), array([2., 1., 0.]))\n",
      "AUC = 0.844186232550698\n",
      "Precision = 0.8574098687489616\n",
      "Recall = 0.8256869725210991\n",
      "f1_score = 0.8412494651262302\n"
     ]
    }
   ],
   "source": [
    "print(\"BOW + NaiveBayes : \")\n",
    "print(\"Confusion Matrix = \") \n",
    "plot_confusion_matrix(Y_test, Y_predict)  \n",
    "print(\"ROC = \" + str( calc_ROC(Y_predict, Y_test)))\n",
    "print(\"AUC = \" + str(calc_AUC(Y_predict, Y_test)))\n",
    "print(\"Precision = \" + str(calc_precision(Y_predict, Y_test)))\n",
    "print(\"Recall = \" + str(calc_recall(Y_predict, Y_test)))\n",
    "print(\"f1_score = \" + str(calc_f1score(Y_predict, Y_test)))"
   ]
  },
  {
   "cell_type": "code",
   "execution_count": 0,
   "metadata": {
    "colab": {},
    "colab_type": "code",
    "id": "OzR_NUBCLJEI"
   },
   "outputs": [],
   "source": [
    "Y_predict =  SVM(X_train_BOW, Y_train, X_test_BOW, Y_test)"
   ]
  },
  {
   "cell_type": "code",
   "execution_count": 0,
   "metadata": {
    "colab": {},
    "colab_type": "code",
    "id": "fLIwG34XLJEK",
    "outputId": "8f214ab8-66c3-40b0-a787-2d51d65d82f7"
   },
   "outputs": [
    {
     "name": "stdout",
     "output_type": "stream",
     "text": [
      "BOW + NaiveBayes : \n",
      "Confusion Matrix = \n",
      "Confusion matrix, without normalization\n",
      "[[20946  4055]\n",
      " [ 4504 20497]]\n"
     ]
    },
    {
     "data": {
      "image/png": "[encoded data removed]",
      "text/plain": [
       "<Figure size 432x288 with 2 Axes>"
      ]
     },
     "metadata": {
      "tags": []
     },
     "output_type": "display_data"
    },
    {
     "name": "stdout",
     "output_type": "stream",
     "text": [
      "ROC = (array([0.        , 0.16219351, 1.        ]), array([0.        , 0.81984721, 1.        ]), array([2., 1., 0.]))\n",
      "AUC = nan\n",
      "Precision = 0.8348403388725969\n",
      "Recall = 0.8198472061117555\n",
      "f1_score = 0.8272758460638105\n"
     ]
    },
    {
     "name": "stderr",
     "output_type": "stream",
     "text": [
      "C:\\Users\\maryam\\Anaconda3\\lib\\site-packages\\sklearn\\metrics\\ranking.py:659: UndefinedMetricWarning: No positive samples in y_true, true positive value should be meaningless\n",
      "  UndefinedMetricWarning)\n"
     ]
    }
   ],
   "source": [
    "print(\"BOW + SVM : \")\n",
    "print(\"Confusion Matrix = \") \n",
    "plot_confusion_matrix(Y_test, Y_predict)  \n",
    "print(\"ROC = \" + str( calc_ROC(Y_predict, Y_test)))\n",
    "print(\"AUC = \" + str(calc_AUC(Y_predict, Y_test)))\n",
    "print(\"Precision = \" + str(calc_precision(Y_predict, Y_test)))\n",
    "print(\"Recall = \" + str(calc_recall(Y_predict, Y_test)))\n",
    "print(\"f1_score = \" + str(calc_f1score(Y_predict, Y_test)))"
   ]
  },
  {
   "cell_type": "code",
   "execution_count": 0,
   "metadata": {
    "colab": {},
    "colab_type": "code",
    "id": "n9vxCSGyLJEM"
   },
   "outputs": [],
   "source": [
    "Y_predict =  decision_tree(X_train_BOW, Y_train, X_test_BOW, Y_test)"
   ]
  },
  {
   "cell_type": "code",
   "execution_count": 26,
   "metadata": {
    "colab": {
     "base_uri": "https://localhost:8080/",
     "height": 465
    },
    "colab_type": "code",
    "id": "fqvDuxItLJEO",
    "outputId": "70b46086-094b-40eb-80a8-0c4e1695faf6"
   },
   "outputs": [
    {
     "name": "stdout",
     "output_type": "stream",
     "text": [
      "BOW + decision_tree : \n",
      "Confusion Matrix = \n",
      "Confusion matrix, without normalization\n",
      "[[18069  6932]\n",
      " [ 7331 17670]]\n"
     ]
    },
    {
     "data": {
      "image/png": "[encoded data removed]",
      "text/plain": [
       "<Figure size 432x288 with 2 Axes>"
      ]
     },
     "metadata": {
      "tags": []
     },
     "output_type": "display_data"
    },
    {
     "name": "stdout",
     "output_type": "stream",
     "text": [
      "ROC = (array([0.        , 0.27726891, 1.        ]), array([0.        , 0.70677173, 1.        ]), array([2., 1., 0.]))\n",
      "AUC = 0.7147514099436022\n",
      "Precision = 0.7182342898951305\n",
      "Recall = 0.7067717291308347\n",
      "f1_score = 0.7124569078483156\n"
     ]
    }
   ],
   "source": [
    "print(\"BOW + decision_tree : \")\n",
    "print(\"Confusion Matrix = \") \n",
    "plot_confusion_matrix(Y_test, Y_predict)  \n",
    "print(\"ROC = \" + str( calc_ROC(Y_predict, Y_test)))\n",
    "print(\"AUC = \" + str(calc_AUC(Y_predict, Y_test)))\n",
    "print(\"Precision = \" + str(calc_precision(Y_predict, Y_test)))\n",
    "print(\"Recall = \" + str(calc_recall(Y_predict, Y_test)))\n",
    "print(\"f1_score = \" + str(calc_f1score(Y_predict, Y_test)))"
   ]
  },
  {
   "cell_type": "code",
   "execution_count": 0,
   "metadata": {
    "colab": {},
    "colab_type": "code",
    "id": "JlXAVTpkLJEQ",
    "outputId": "1bc3c872-d276-43ac-a09d-0661dba8c6c3"
   },
   "outputs": [
    {
     "name": "stderr",
     "output_type": "stream",
     "text": [
      "C:\\Users\\maryam\\Anaconda3\\lib\\site-packages\\sklearn\\ensemble\\forest.py:245: FutureWarning: The default value of n_estimators will change from 10 in version 0.20 to 100 in 0.22.\n",
      "  \"10 in version 0.20 to 100 in 0.22.\", FutureWarning)\n"
     ]
    }
   ],
   "source": [
    "Y_predict =  random_forest(X_train_BOW, Y_train, X_test_BOW, Y_test)"
   ]
  },
  {
   "cell_type": "code",
   "execution_count": 0,
   "metadata": {
    "colab": {},
    "colab_type": "code",
    "id": "zTVYPMdyLJET",
    "outputId": "3f3e2b15-5ac2-43ac-b6c7-0a5647879b03"
   },
   "outputs": [
    {
     "name": "stdout",
     "output_type": "stream",
     "text": [
      "BOW + random_forest : \n",
      "Confusion Matrix = \n",
      "Confusion matrix, without normalization\n",
      "[[20642  4359]\n",
      " [ 7214 17787]]\n"
     ]
    },
    {
     "data": {
      "image/png": "[encoded data removed]",
      "text/plain": [
       "<Figure size 432x288 with 2 Axes>"
      ]
     },
     "metadata": {
      "tags": []
     },
     "output_type": "display_data"
    },
    {
     "name": "stdout",
     "output_type": "stream",
     "text": [
      "ROC = (array([0.        , 0.17435303, 1.        ]), array([0.        , 0.71145154, 1.        ]), array([2., 1., 0.]))\n",
      "AUC = 0.7685492580296788\n",
      "Precision = 0.8031698726632349\n",
      "Recall = 0.7114515419383225\n",
      "f1_score = 0.75453369249369\n"
     ]
    }
   ],
   "source": [
    "print(\"BOW + random_forest : \")\n",
    "print(\"Confusion Matrix = \") \n",
    "plot_confusion_matrix(Y_test, Y_predict)  \n",
    "print(\"ROC = \" + str( calc_ROC(Y_predict, Y_test)))\n",
    "print(\"AUC = \" + str(calc_AUC(Y_predict, Y_test)))\n",
    "print(\"Precision = \" + str(calc_precision(Y_predict, Y_test)))\n",
    "print(\"Recall = \" + str(calc_recall(Y_predict, Y_test)))\n",
    "print(\"f1_score = \" + str(calc_f1score(Y_predict, Y_test)))"
   ]
  },
  {
   "cell_type": "markdown",
   "metadata": {
    "colab_type": "text",
    "id": "U8vY2RcaLJEV"
   },
   "source": [
    "# Train all classifier for TF_IDF\n",
    "Now we train all classifiers with the training and test set which is acheived from TF_IDF."
   ]
  },
  {
   "cell_type": "code",
   "execution_count": 0,
   "metadata": {
    "colab": {},
    "colab_type": "code",
    "id": "HriwBcpALJEW"
   },
   "outputs": [],
   "source": [
    "Y_predict =  NaiveBayes(X_train_Tfidf, Y_train, X_train_Tfidf, Y_test)"
   ]
  },
  {
   "cell_type": "code",
   "execution_count": 0,
   "metadata": {
    "colab": {},
    "colab_type": "code",
    "id": "6Kv5_zIcLJEX",
    "outputId": "ef72fc29-9763-4985-c2fd-2c44efc79157"
   },
   "outputs": [
    {
     "name": "stdout",
     "output_type": "stream",
     "text": [
      "TF_IDF + NaiveBayes : \n",
      "Confusion Matrix = \n",
      "Confusion matrix, without normalization\n",
      "[[21010  3991]\n",
      " [ 3526 21475]]\n"
     ]
    },
    {
     "data": {
      "image/png": "[encoded data removed]",
      "text/plain": [
       "<Figure size 432x288 with 2 Axes>"
      ]
     },
     "metadata": {
      "tags": []
     },
     "output_type": "display_data"
    },
    {
     "name": "stdout",
     "output_type": "stream",
     "text": [
      "ROC = (array([0.        , 0.15963361, 1.        ]), array([0.        , 0.85896564, 1.        ]), array([2., 1., 0.]))\n",
      "AUC = 0.8496660133594657\n",
      "Precision = 0.8432812377287363\n",
      "Recall = 0.8589656413743451\n",
      "f1_score = 0.851051181960489\n"
     ]
    }
   ],
   "source": [
    "print(\"TF_IDF + NaiveBayes : \")\n",
    "print(\"Confusion Matrix = \") \n",
    "plot_confusion_matrix(Y_test, Y_predict)  \n",
    "print(\"ROC = \" + str( calc_ROC(Y_predict, Y_test)))\n",
    "print(\"AUC = \" + str(calc_AUC(Y_predict, Y_test)))\n",
    "print(\"Precision = \" + str(calc_precision(Y_predict, Y_test)))\n",
    "print(\"Recall = \" + str(calc_recall(Y_predict, Y_test)))\n",
    "print(\"f1_score = \" + str(calc_f1score(Y_predict, Y_test)))"
   ]
  },
  {
   "cell_type": "code",
   "execution_count": 0,
   "metadata": {
    "colab": {},
    "colab_type": "code",
    "id": "Mzw2u1U0LJEd"
   },
   "outputs": [],
   "source": [
    "Y_predict =  SVM(X_train_Tfidf, Y_train, X_test_Tfidf, Y_test)"
   ]
  },
  {
   "cell_type": "code",
   "execution_count": 0,
   "metadata": {
    "colab": {},
    "colab_type": "code",
    "id": "i3HktwX7LJEh"
   },
   "outputs": [],
   "source": [
    "print(\"TF_IDF + SVM : \")\n",
    "print(\"Confusion Matrix = \") \n",
    "plot_confusion_matrix(Y_test, Y_predict)  \n",
    "print(\"ROC = \" + str( calc_ROC(Y_predict, Y_test)))\n",
    "print(\"AUC = \" + str(calc_AUC(Y_predict, Y_test)))\n",
    "print(\"Precision = \" + str(calc_precision(Y_predict, Y_test)))\n",
    "print(\"Recall = \" + str(calc_recall(Y_predict, Y_test)))\n",
    "print(\"f1_score = \" + str(calc_f1score(Y_predict, Y_test)))"
   ]
  },
  {
   "cell_type": "code",
   "execution_count": 0,
   "metadata": {
    "colab": {},
    "colab_type": "code",
    "id": "KQSofWBhLJEi"
   },
   "outputs": [],
   "source": [
    "Y_predict =  decision_tree(X_train_Tfidf, Y_train, X_test_Tfidf, Y_test)"
   ]
  },
  {
   "cell_type": "code",
   "execution_count": 0,
   "metadata": {
    "colab": {},
    "colab_type": "code",
    "id": "V63808DBLJEk",
    "outputId": "24c15fc1-d575-4277-b9e3-819563b10cd1"
   },
   "outputs": [
    {
     "name": "stdout",
     "output_type": "stream",
     "text": [
      "TF_IDF + Decision tree : \n",
      "Confusion Matrix = \n",
      "Confusion matrix, without normalization\n",
      "[[25001     0]\n",
      " [    0 25001]]\n"
     ]
    },
    {
     "data": {
      "image/png": "[encoded data removed]",
      "text/plain": [
       "<Figure size 432x288 with 2 Axes>"
      ]
     },
     "metadata": {
      "tags": []
     },
     "output_type": "display_data"
    },
    {
     "name": "stdout",
     "output_type": "stream",
     "text": [
      "ROC = (array([0., 0., 1.]), array([0., 1., 1.]), array([2., 1., 0.]))\n",
      "AUC = 1.0\n",
      "Precision = 1.0\n",
      "Recall = 1.0\n",
      "f1_score = 1.0\n"
     ]
    }
   ],
   "source": [
    "print(\"TF_IDF + Decision tree : \")\n",
    "print(\"Confusion Matrix = \") \n",
    "plot_confusion_matrix(Y_test, Y_predict)  \n",
    "print(\"ROC = \" + str( calc_ROC(Y_predict, Y_test)))\n",
    "print(\"AUC = \" + str(calc_AUC(Y_predict, Y_test)))\n",
    "print(\"Precision = \" + str(calc_precision(Y_predict, Y_test)))\n",
    "print(\"Recall = \" + str(calc_recall(Y_predict, Y_test)))\n",
    "print(\"f1_score = \" + str(calc_f1score(Y_predict, Y_test)))"
   ]
  },
  {
   "cell_type": "code",
   "execution_count": 0,
   "metadata": {
    "colab": {},
    "colab_type": "code",
    "id": "phO1dMt2LJEm",
    "outputId": "682d494a-8dc9-4c36-94d8-f683aff49e46"
   },
   "outputs": [
    {
     "name": "stderr",
     "output_type": "stream",
     "text": [
      "C:\\Users\\maryam\\Anaconda3\\lib\\site-packages\\sklearn\\ensemble\\forest.py:245: FutureWarning: The default value of n_estimators will change from 10 in version 0.20 to 100 in 0.22.\n",
      "  \"10 in version 0.20 to 100 in 0.22.\", FutureWarning)\n"
     ]
    }
   ],
   "source": [
    "Y_predict =  random_forest(X_train_Tfidf, Y_train, X_test_Tfidf, Y_test)"
   ]
  },
  {
   "cell_type": "code",
   "execution_count": 0,
   "metadata": {
    "colab": {},
    "colab_type": "code",
    "id": "svSGc9s4LJEq",
    "outputId": "3eb36933-124a-4184-9dc3-dc30a1868262"
   },
   "outputs": [
    {
     "name": "stdout",
     "output_type": "stream",
     "text": [
      "TF_IDF + Random forest : \n",
      "Confusion Matrix = \n",
      "Confusion matrix, without normalization\n",
      "[[25001     0]\n",
      " [    6 24995]]\n"
     ]
    },
    {
     "data": {
      "image/png": "[encoded data removed]",
      "text/plain": [
       "<Figure size 432x288 with 2 Axes>"
      ]
     },
     "metadata": {
      "tags": []
     },
     "output_type": "display_data"
    },
    {
     "name": "stdout",
     "output_type": "stream",
     "text": [
      "ROC = (array([0., 0., 1.]), array([0.        , 0.99976001, 1.        ]), array([2., 1., 0.]))\n",
      "AUC = 0.999880004799808\n",
      "Precision = 1.0\n",
      "Recall = 0.999760009599616\n",
      "f1_score = 0.9998799903992319\n"
     ]
    }
   ],
   "source": [
    "print(\"TF_IDF + Random forest : \")\n",
    "print(\"Confusion Matrix = \") \n",
    "plot_confusion_matrix(Y_test, Y_predict)  \n",
    "print(\"ROC = \" + str( calc_ROC(Y_predict, Y_test)))\n",
    "print(\"AUC = \" + str(calc_AUC(Y_predict, Y_test)))\n",
    "print(\"Precision = \" + str(calc_precision(Y_predict, Y_test)))\n",
    "print(\"Recall = \" + str(calc_recall(Y_predict, Y_test)))\n",
    "print(\"f1_score = \" + str(calc_f1score(Y_predict, Y_test)))"
   ]
  },
  {
   "cell_type": "markdown",
   "metadata": {
    "colab_type": "text",
    "id": "DelDYyaULJEs"
   },
   "source": [
    "# Train all classifier for TF_IDF without stop words\n",
    "Now we train all classifiers with the training and test set which is acheived from TF_IDF without stop words."
   ]
  },
  {
   "cell_type": "code",
   "execution_count": 0,
   "metadata": {
    "colab": {},
    "colab_type": "code",
    "id": "W7mTACh2LJEs"
   },
   "outputs": [],
   "source": [
    "Y_predict =  NaiveBayes(X_train_Tfidfnonstop, Y_train, X_test_Tfidfnonstop, Y_test)"
   ]
  },
  {
   "cell_type": "code",
   "execution_count": 0,
   "metadata": {
    "colab": {},
    "colab_type": "code",
    "id": "ybXw6fVULJEv",
    "outputId": "f2c44fe5-c8b9-43de-aa72-d68b39d0e7bd"
   },
   "outputs": [
    {
     "name": "stdout",
     "output_type": "stream",
     "text": [
      "TF_IDF non stop + NaiveBayes : \n",
      "Confusion Matrix = \n",
      "Confusion matrix, without normalization\n",
      "[[20968  4033]\n",
      " [ 3384 21617]]\n"
     ]
    },
    {
     "data": {
      "image/png": "[encoded data removed]",
      "text/plain": [
       "<Figure size 432x288 with 2 Axes>"
      ]
     },
     "metadata": {
      "tags": []
     },
     "output_type": "display_data"
    },
    {
     "name": "stdout",
     "output_type": "stream",
     "text": [
      "ROC = (array([0.        , 0.16131355, 1.        ]), array([0.        , 0.86464541, 1.        ]), array([2., 1., 0.]))\n",
      "AUC = 0.8516659333626655\n",
      "Precision = 0.8427680311890838\n",
      "Recall = 0.8646454141834327\n",
      "f1_score = 0.8535665633452449\n"
     ]
    }
   ],
   "source": [
    "print(\"TF_IDF non stop + NaiveBayes : \")\n",
    "print(\"Confusion Matrix = \") \n",
    "plot_confusion_matrix(Y_test, Y_predict)  \n",
    "print(\"ROC = \" + str( calc_ROC(Y_predict, Y_test)))\n",
    "print(\"AUC = \" + str(calc_AUC(Y_predict, Y_test)))\n",
    "print(\"Precision = \" + str(calc_precision(Y_predict, Y_test)))\n",
    "print(\"Recall = \" + str(calc_recall(Y_predict, Y_test)))\n",
    "print(\"f1_score = \" + str(calc_f1score(Y_predict, Y_test)))"
   ]
  },
  {
   "cell_type": "code",
   "execution_count": 0,
   "metadata": {
    "colab": {},
    "colab_type": "code",
    "id": "29zI3GB8LJEy"
   },
   "outputs": [],
   "source": [
    "Y_predict =  SVM(X_train_Tfidfnonstop, Y_train, X_test_Tfidfnonstop, Y_test)"
   ]
  },
  {
   "cell_type": "code",
   "execution_count": 0,
   "metadata": {
    "colab": {},
    "colab_type": "code",
    "id": "kyHA4TmrLJE0"
   },
   "outputs": [],
   "source": [
    "print(\"TF_IDF non stop + SVM : \")\n",
    "print(\"Confusion Matrix = \") \n",
    "plot_confusion_matrix(Y_test, Y_predict)  \n",
    "print(\"ROC = \" + str( calc_ROC(Y_predict, Y_test)))\n",
    "print(\"AUC = \" + str(calc_AUC(Y_predict, Y_test)))\n",
    "print(\"Precision = \" + str(calc_precision(Y_predict, Y_test)))\n",
    "print(\"Recall = \" + str(calc_recall(Y_predict, Y_test)))\n",
    "print(\"f1_score = \" + str(calc_f1score(Y_predict, Y_test)))"
   ]
  },
  {
   "cell_type": "code",
   "execution_count": 0,
   "metadata": {
    "colab": {},
    "colab_type": "code",
    "id": "KxOWTpDNLJE1"
   },
   "outputs": [],
   "source": [
    "Y_predict =  decision_tree(X_train_Tfidfnonstop, Y_train, X_test_Tfidfnonstop, Y_test)"
   ]
  },
  {
   "cell_type": "code",
   "execution_count": 0,
   "metadata": {
    "colab": {},
    "colab_type": "code",
    "id": "71d6MFk2LJE3",
    "outputId": "91825f4e-2acd-469e-9786-475908957844"
   },
   "outputs": [
    {
     "name": "stdout",
     "output_type": "stream",
     "text": [
      "TF_IDF non stop + Decision Tree : \n",
      "Confusion Matrix = \n",
      "Confusion matrix, without normalization\n",
      "[[25001     0]\n",
      " [    0 25001]]\n"
     ]
    },
    {
     "data": {
      "image/png": "[encoded data removed]",
      "text/plain": [
       "<Figure size 432x288 with 2 Axes>"
      ]
     },
     "metadata": {
      "tags": []
     },
     "output_type": "display_data"
    },
    {
     "name": "stdout",
     "output_type": "stream",
     "text": [
      "ROC = (array([0., 0., 1.]), array([0., 1., 1.]), array([2., 1., 0.]))\n",
      "AUC = 1.0\n",
      "Precision = 1.0\n",
      "Recall = 1.0\n",
      "f1_score = 1.0\n"
     ]
    }
   ],
   "source": [
    "print(\"TF_IDF non stop + Decision Tree : \")\n",
    "print(\"Confusion Matrix = \") \n",
    "plot_confusion_matrix(Y_test, Y_predict)  \n",
    "print(\"ROC = \" + str( calc_ROC(Y_predict, Y_test)))\n",
    "print(\"AUC = \" + str(calc_AUC(Y_predict, Y_test)))\n",
    "print(\"Precision = \" + str(calc_precision(Y_predict, Y_test)))\n",
    "print(\"Recall = \" + str(calc_recall(Y_predict, Y_test)))\n",
    "print(\"f1_score = \" + str(calc_f1score(Y_predict, Y_test)))"
   ]
  },
  {
   "cell_type": "code",
   "execution_count": 0,
   "metadata": {
    "colab": {},
    "colab_type": "code",
    "id": "0-jdtatuLJE8",
    "outputId": "51c64307-e3cb-4fbf-bf43-c217af60e6d9"
   },
   "outputs": [
    {
     "name": "stderr",
     "output_type": "stream",
     "text": [
      "C:\\Users\\maryam\\Anaconda3\\lib\\site-packages\\sklearn\\ensemble\\forest.py:245: FutureWarning: The default value of n_estimators will change from 10 in version 0.20 to 100 in 0.22.\n",
      "  \"10 in version 0.20 to 100 in 0.22.\", FutureWarning)\n"
     ]
    }
   ],
   "source": [
    "Y_predict =  random_forest(X_train_Tfidfnonstop, Y_train, X_test_Tfidfnonstop, Y_test)"
   ]
  },
  {
   "cell_type": "code",
   "execution_count": 0,
   "metadata": {
    "colab": {},
    "colab_type": "code",
    "id": "pXZyh2_oLJFD",
    "outputId": "1f155c34-abf3-4755-9392-7f94accc650e"
   },
   "outputs": [
    {
     "name": "stdout",
     "output_type": "stream",
     "text": [
      "TF_IDF non stop + Random forest : \n",
      "Confusion Matrix = \n",
      "Confusion matrix, without normalization\n",
      "[[25001     0]\n",
      " [    8 24993]]\n"
     ]
    },
    {
     "data": {
      "image/png": "[encoded data removed]",
      "text/plain": [
       "<Figure size 432x288 with 2 Axes>"
      ]
     },
     "metadata": {
      "tags": []
     },
     "output_type": "display_data"
    },
    {
     "name": "stdout",
     "output_type": "stream",
     "text": [
      "ROC = (array([0., 0., 1.]), array([0.        , 0.99968001, 1.        ]), array([2., 1., 0.]))\n",
      "AUC = 0.999840006399744\n",
      "Precision = 1.0\n",
      "Recall = 0.999680012799488\n",
      "f1_score = 0.9998399807976958\n"
     ]
    }
   ],
   "source": [
    "print(\"TF_IDF non stop + Random forest : \")\n",
    "print(\"Confusion Matrix = \") \n",
    "plot_confusion_matrix(Y_test, Y_predict)  \n",
    "print(\"ROC = \" + str( calc_ROC(Y_predict, Y_test)))\n",
    "print(\"AUC = \" + str(calc_AUC(Y_predict, Y_test)))\n",
    "print(\"Precision = \" + str(calc_precision(Y_predict, Y_test)))\n",
    "print(\"Recall = \" + str(calc_recall(Y_predict, Y_test)))\n",
    "print(\"f1_score = \" + str(calc_f1score(Y_predict, Y_test)))"
   ]
  },
  {
   "cell_type": "markdown",
   "metadata": {
    "colab_type": "text",
    "id": "Mr-7L77-6-nd"
   },
   "source": [
    "# Train all classifier for Bert embedding\n",
    "Now we train all classifiers with the training and test set which is acheived from bert embedding."
   ]
  },
  {
   "cell_type": "code",
   "execution_count": 0,
   "metadata": {
    "colab": {},
    "colab_type": "code",
    "id": "oLzmNpAz782s"
   },
   "outputs": [],
   "source": [
    "X_train_bert = np.loadtxt('/content/drive/My Drive/bertembeddings_train.txt')\n",
    "X_test_bert = np.loadtxt('/content/drive/My Drive/bertembeddings_test.txt')"
   ]
  },
  {
   "cell_type": "code",
   "execution_count": 80,
   "metadata": {
    "colab": {
     "base_uri": "https://localhost:8080/",
     "height": 50
    },
    "colab_type": "code",
    "id": "3yX_TE2WAErv",
    "outputId": "ca4497e5-f0ed-45cc-e9de-d0668e699407"
   },
   "outputs": [
    {
     "name": "stdout",
     "output_type": "stream",
     "text": [
      "(50002, 768)\n",
      "(50002, 768)\n"
     ]
    }
   ],
   "source": [
    "print(X_train_bert.shape)\n",
    "print(X_test_bert.shape)"
   ]
  },
  {
   "cell_type": "code",
   "execution_count": 0,
   "metadata": {
    "colab": {},
    "colab_type": "code",
    "id": "8wxQn8ftLJFG"
   },
   "outputs": [],
   "source": [
    "Y_predict =  NaiveBayes_Gaussian(X_train_bert, Y_train, X_test_bert, Y_test)"
   ]
  },
  {
   "cell_type": "code",
   "execution_count": 86,
   "metadata": {
    "colab": {
     "base_uri": "https://localhost:8080/",
     "height": 465
    },
    "colab_type": "code",
    "id": "zdCP35zj9vzL",
    "outputId": "a826f3cf-796e-4cfc-c16c-cca349bb7ecb"
   },
   "outputs": [
    {
     "name": "stdout",
     "output_type": "stream",
     "text": [
      "bert embedding + Naive Bayes: \n",
      "Confusion Matrix = \n",
      "Confusion matrix, without normalization\n",
      "[[21504  3497]\n",
      " [ 4708 20293]]\n"
     ]
    },
    {
     "data": {
      "image/png": "[encoded data removed]",
      "text/plain": [
       "<Figure size 432x288 with 2 Axes>"
      ]
     },
     "metadata": {
      "tags": []
     },
     "output_type": "display_data"
    },
    {
     "name": "stdout",
     "output_type": "stream",
     "text": [
      "ROC = (array([0.        , 0.13987441, 1.        ]), array([0.        , 0.81168753, 1.        ]), array([2., 1., 0.]))\n",
      "AUC = 0.8359065637374505\n",
      "Precision = 0.8530054644808743\n",
      "Recall = 0.8116875324987001\n",
      "f1_score = 0.8318337398290668\n"
     ]
    }
   ],
   "source": [
    "print(\"bert embedding + Naive Bayes: \")\n",
    "print(\"Confusion Matrix = \") \n",
    "plot_confusion_matrix(Y_test, Y_predict)  \n",
    "print(\"ROC = \" + str( calc_ROC(Y_predict, Y_test)))\n",
    "print(\"AUC = \" + str(calc_AUC(Y_predict, Y_test)))\n",
    "print(\"Precision = \" + str(calc_precision(Y_predict, Y_test)))\n",
    "print(\"Recall = \" + str(calc_recall(Y_predict, Y_test)))\n",
    "print(\"f1_score = \" + str(calc_f1score(Y_predict, Y_test)))"
   ]
  },
  {
   "cell_type": "code",
   "execution_count": 0,
   "metadata": {
    "colab": {},
    "colab_type": "code",
    "id": "zU2Zhk7-Aqbm"
   },
   "outputs": [],
   "source": [
    "Y_predict =  SVM(X_train_bert, Y_train, X_test_bert, Y_test)"
   ]
  },
  {
   "cell_type": "code",
   "execution_count": 0,
   "metadata": {
    "colab": {},
    "colab_type": "code",
    "id": "y09o1tIMB5oo"
   },
   "outputs": [],
   "source": [
    "print(\"bert embedding + SVM: \")\n",
    "print(\"Confusion Matrix = \") \n",
    "plot_confusion_matrix(Y_test, Y_predict)  \n",
    "print(\"ROC = \" + str( calc_ROC(Y_predict, Y_test)))\n",
    "print(\"AUC = \" + str(calc_AUC(Y_predict, Y_test)))\n",
    "print(\"Precision = \" + str(calc_precision(Y_predict, Y_test)))\n",
    "print(\"Recall = \" + str(calc_recall(Y_predict, Y_test)))\n",
    "print(\"f1_score = \" + str(calc_f1score(Y_predict, Y_test)))"
   ]
  },
  {
   "cell_type": "code",
   "execution_count": 0,
   "metadata": {
    "colab": {},
    "colab_type": "code",
    "id": "ysJGMQqVBLwt"
   },
   "outputs": [],
   "source": [
    "Y_predict =  decision_tree(X_train_bert, Y_train, X_test_bert, Y_test)"
   ]
  },
  {
   "cell_type": "code",
   "execution_count": 0,
   "metadata": {
    "colab": {},
    "colab_type": "code",
    "id": "AlLvB-m6B8oT"
   },
   "outputs": [],
   "source": [
    "print(\"bert embedding + Decision tree: \")\n",
    "print(\"Confusion Matrix = \") \n",
    "plot_confusion_matrix(Y_test, Y_predict)  \n",
    "print(\"ROC = \" + str( calc_ROC(Y_predict, Y_test)))\n",
    "print(\"AUC = \" + str(calc_AUC(Y_predict, Y_test)))\n",
    "print(\"Precision = \" + str(calc_precision(Y_predict, Y_test)))\n",
    "print(\"Recall = \" + str(calc_recall(Y_predict, Y_test)))\n",
    "print(\"f1_score = \" + str(calc_f1score(Y_predict, Y_test)))"
   ]
  },
  {
   "cell_type": "code",
   "execution_count": 0,
   "metadata": {
    "colab": {},
    "colab_type": "code",
    "id": "Y5OJcl37ByAW"
   },
   "outputs": [],
   "source": [
    "Y_predict =  random_forest(X_train_bert, Y_train, X_test_bert, Y_test)"
   ]
  },
  {
   "cell_type": "code",
   "execution_count": 0,
   "metadata": {
    "colab": {},
    "colab_type": "code",
    "id": "mTDukPPhCBbS"
   },
   "outputs": [],
   "source": [
    "print(\"bert embedding + Random Forest: \")\n",
    "print(\"Confusion Matrix = \") \n",
    "plot_confusion_matrix(Y_test, Y_predict)  \n",
    "print(\"ROC = \" + str( calc_ROC(Y_predict, Y_test)))\n",
    "print(\"AUC = \" + str(calc_AUC(Y_predict, Y_test)))\n",
    "print(\"Precision = \" + str(calc_precision(Y_predict, Y_test)))\n",
    "print(\"Recall = \" + str(calc_recall(Y_predict, Y_test)))\n",
    "print(\"f1_score = \" + str(calc_f1score(Y_predict, Y_test)))"
   ]
  }
 ],
 "metadata": {
  "accelerator": "GPU",
  "colab": {
   "machine_shape": "hm",
   "name": "Project Sentiment Analysis.ipynb",
   "provenance": []
  },
  "kernelspec": {
   "display_name": "Python 3",
   "language": "python",
   "name": "python3"
  },
  "language_info": {
   "codemirror_mode": {
    "name": "ipython",
    "version": 3
   },
   "file_extension": ".py",
   "mimetype": "text/x-python",
   "name": "python",
   "nbconvert_exporter": "python",
   "pygments_lexer": "ipython3",
   "version": "3.6.4"
  }
 },
 "nbformat": 4,
 "nbformat_minor": 1
}
