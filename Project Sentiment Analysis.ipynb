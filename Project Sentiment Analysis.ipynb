{
 "cells": [
  {
   "cell_type": "markdown",
   "metadata": {},
   "source": [
    "# IMDB Movie Reviews Sentiment Analysis\n",
    "## First project of Pattern Recognition Course\n",
    "\n",
    "Professor : Dr. Analouyi\n",
    "\n",
    "TAs : Mr.Pourbagheri and Mr. Tabatabaee\n",
    "\n",
    "Maryam Sadat Hashemi\n",
    "98722233"
   ]
  },
  {
   "cell_type": "markdown",
   "metadata": {},
   "source": [
    "Add the prerequisites."
   ]
  },
  {
   "cell_type": "code",
   "execution_count": 1,
   "metadata": {},
   "outputs": [],
   "source": [
    "import numpy as np\n",
    "import pandas as pd\n",
    "import os\n",
    "import re\n",
    "import nltk\n",
    "from nltk.corpus import stopwords\n",
    "from nltk.stem import WordNetLemmatizer \n",
    "from nltk.stem import PorterStemmer\n",
    "import numpy as np\n",
    "import sklearn\n",
    "from matplotlib import pyplot as plt\n",
    "from sklearn.feature_extraction.text import TfidfVectorizer"
   ]
  },
  {
   "cell_type": "markdown",
   "metadata": {},
   "source": [
    "# Step 1 :  Download and Combine Movie Reviews\n",
    "First of All, we download IMDB reviews from <a href=\"https://ai.stanford.edu/~amaas/data/sentiment/aclImdb_v1.tar.gz\">this</a>. Next, we merge all postive and negative files of train and test into train_pos.txt, train_neg.txt, test_pos.txt and test_neg.txt respectively. Then we save all these 4 file in a directory called movie_data.\n",
    "\n",
    "We use this OS command to merge files:\n",
    "**FOR %f IN (*.txt) DO type %f >> train_neg.txt & echo. >> train_neg.txt**"
   ]
  },
  {
   "cell_type": "markdown",
   "metadata": {},
   "source": [
    "# Step 2: Read into Python\n",
    "For most of what we want to do in this walkthrough, we’ll only need our reviews to be in a Python list."
   ]
  },
  {
   "cell_type": "code",
   "execution_count": 2,
   "metadata": {},
   "outputs": [
    {
     "name": "stdout",
     "output_type": "stream",
     "text": [
      "full train counts : 50002\n",
      "full test counts : 50002\n"
     ]
    }
   ],
   "source": [
    "full_train = []\n",
    "for line in open('movie_data/full_train.txt', 'r',encoding='utf-8'):\n",
    "    full_train.append(line)\n",
    "    \n",
    "full_test = []\n",
    "for line in open('movie_data/full_test.txt', 'r',encoding='utf-8'):\n",
    "    full_test.append(line)\n",
    "    \n",
    "print(\"full train counts : \" + str(len(full_train)))\n",
    "print(\"full test counts : \" + str(len(full_test)))\n"
   ]
  },
  {
   "cell_type": "markdown",
   "metadata": {},
   "source": [
    "# Step 3: Clean and Preprocess"
   ]
  },
  {
   "cell_type": "markdown",
   "metadata": {},
   "source": [
    "The raw text is pretty messy. So before we can do any analytics, we need to clean things up. Here’s one example:"
   ]
  },
  {
   "cell_type": "code",
   "execution_count": 3,
   "metadata": {},
   "outputs": [
    {
     "name": "stdout",
     "output_type": "stream",
     "text": [
      "I was prepared for a turgid talky soap opera cum travelogue, but was pleased to find a fast-paced script, an underlying moral, excellent portrayals from all the actors, especially Peter Finch, amazing special effects, suspense, and beautiful cinematography--there's even a shot of the majestic stone Buddhas recently destroyed by the Taliban. Not to mention Elizabeth Taylor at her most gloriously beautiful and sympathetic, before she gave in to the gaspy hysterics that marred her later work. All the supporting players round it out, and I do wonder who trained all those elephants.<br /><br />Speaking of the stone-Buddha sequence, you really can discern that it's Vivien Leigh in the long shots. Her shape and the way she moves is distinct from Taylor's. The only thing marring that sequence are the poorly done process shots, where the background moves by much too fast for horses at a walk.<br /><br />If you want a thought-provoking film that is beautiful to watch and never boring, spend a few hours with Elephant Walk. \n",
      "\n"
     ]
    }
   ],
   "source": [
    "print(full_train[100])"
   ]
  },
  {
   "cell_type": "markdown",
   "metadata": {},
   "source": [
    "So, we remove these characters \\ ; : ! ' ? \" ( ) \\[ \\] & % * @ # $ and numbers from reviews and we also replace these characters -, / and HTML tags with space."
   ]
  },
  {
   "cell_type": "code",
   "execution_count": 4,
   "metadata": {},
   "outputs": [
    {
     "name": "stdout",
     "output_type": "stream",
     "text": [
      "full train counts : 50002\n",
      "full test counts : 50002\n"
     ]
    }
   ],
   "source": [
    "REPLACE_NO_SPACE = re.compile(\"[\\\\;:!,\\\"()\\[\\]&%*@#$0-9]\")\n",
    "REPLACE_WITH_SPACE = re.compile(\"(<.*?>)|<!--.*?-->|(\\-)|(\\/)\")\n",
    "\n",
    "def preprocess_reviews(reviews):\n",
    "    reviews = [REPLACE_NO_SPACE.sub(\"\", line.lower()) for line in reviews]\n",
    "    reviews = [REPLACE_WITH_SPACE.sub(\" \", line) for line in reviews]\n",
    "    \n",
    "    return reviews\n",
    "\n",
    "full_train = preprocess_reviews(full_train)\n",
    "full_test = preprocess_reviews(full_test)\n",
    "\n",
    "print(\"full train counts : \" + str(len(full_train)))\n",
    "print(\"full test counts : \" + str(len(full_test)))"
   ]
  },
  {
   "cell_type": "markdown",
   "metadata": {},
   "source": [
    "And this is what the same review looks like now:"
   ]
  },
  {
   "cell_type": "code",
   "execution_count": 5,
   "metadata": {},
   "outputs": [
    {
     "name": "stdout",
     "output_type": "stream",
     "text": [
      "i was prepared for a turgid talky soap opera cum travelogue but was pleased to find a fast paced script an underlying moral excellent portrayals from all the actors especially peter finch amazing special effects suspense and beautiful cinematography  there's even a shot of the majestic stone buddhas recently destroyed by the taliban. not to mention elizabeth taylor at her most gloriously beautiful and sympathetic before she gave in to the gaspy hysterics that marred her later work. all the supporting players round it out and i do wonder who trained all those elephants.  speaking of the stone buddha sequence you really can discern that it's vivien leigh in the long shots. her shape and the way she moves is distinct from taylor's. the only thing marring that sequence are the poorly done process shots where the background moves by much too fast for horses at a walk.  if you want a thought provoking film that is beautiful to watch and never boring spend a few hours with elephant walk. \n",
      "\n"
     ]
    }
   ],
   "source": [
    "print(full_train[100])"
   ]
  },
  {
   "cell_type": "markdown",
   "metadata": {},
   "source": [
    "# Step 4: Vectorization and Feature Extraction\n",
    "In order for this data to make sense to our machine learning algorithms, we’ll need to convert each review to a numeric representation, which we call vectorization."
   ]
  },
  {
   "cell_type": "markdown",
   "metadata": {},
   "source": [
    "## Bag of Words\n",
    "Bag of Words (BOW) is a method to extract features from text documents. These features can be used for training machine learning algorithms. It creates a vocabulary of all the unique words occurring in all the documents in the training set. \n",
    "\n",
    "In simple terms, it’s a collection of words to represent a sentence with word count and mostly disregarding the order in which they appear. \n",
    "\n",
    "We use CountVectorizer() method from sklearn modules to obtain BOW model of our training set. This method convert a collection of text documents to a matrix of token counts. we set min_df to 10 in order to ignore terms that have a document frequency strictly lower than 10. "
   ]
  },
  {
   "cell_type": "code",
   "execution_count": 6,
   "metadata": {},
   "outputs": [
    {
     "name": "stdout",
     "output_type": "stream",
     "text": [
      "Unique Words in BOW model: 1783\n"
     ]
    }
   ],
   "source": [
    "cv =  sklearn.feature_extraction.text.CountVectorizer(max_df = 0.99,min_df = 0.01)\n",
    "cv.fit(full_train)\n",
    "X_train_BOW = cv.transform(full_train)\n",
    "X_train_BOW = X_train_BOW.toarray()\n",
    "print(\"Unique Words in BOW model: \" + str(len(X_train_BOW[0])))"
   ]
  },
  {
   "cell_type": "code",
   "execution_count": 7,
   "metadata": {},
   "outputs": [
    {
     "name": "stdout",
     "output_type": "stream",
     "text": [
      "1783\n",
      "Unique Words in BOW model: 1783\n"
     ]
    }
   ],
   "source": [
    "feature_names = cv.get_feature_names()\n",
    "vocab ={}\n",
    "for value,key in enumerate(feature_names):\n",
    "    vocab[key] = value\n",
    "print(len(vocab))\n",
    "\n",
    "cv =  sklearn.feature_extraction.text.CountVectorizer(vocabulary = vocab)\n",
    "cv.fit(full_test)\n",
    "X_test_BOW = cv.transform(full_test)\n",
    "X_test_BOW = X_test_BOW.toarray()\n",
    "print(\"Unique Words in BOW model: \" + str(len(X_test_BOW[0])))"
   ]
  },
  {
   "cell_type": "markdown",
   "metadata": {},
   "source": [
    "## BERT Embedding"
   ]
  },
  {
   "cell_type": "code",
   "execution_count": null,
   "metadata": {},
   "outputs": [],
   "source": []
  },
  {
   "cell_type": "markdown",
   "metadata": {},
   "source": [
    "### 1.vector for each sentences"
   ]
  },
  {
   "cell_type": "code",
   "execution_count": null,
   "metadata": {},
   "outputs": [],
   "source": []
  },
  {
   "cell_type": "markdown",
   "metadata": {},
   "source": [
    "### 2. vector for each word"
   ]
  },
  {
   "cell_type": "code",
   "execution_count": null,
   "metadata": {},
   "outputs": [],
   "source": []
  },
  {
   "cell_type": "markdown",
   "metadata": {},
   "source": [
    "## TF_IDF with stop words(optional)"
   ]
  },
  {
   "cell_type": "code",
   "execution_count": 28,
   "metadata": {},
   "outputs": [
    {
     "name": "stdout",
     "output_type": "stream",
     "text": [
      "Unique Words in tf_idf model: 1783\n"
     ]
    }
   ],
   "source": [
    "vectorizer = TfidfVectorizer(max_df = 0.99,min_df = 0.01)\n",
    "X_train_Tfidf = vectorizer.fit_transform(full_train)\n",
    "X_train_Tfidf = X_train_Tfidf.toarray()\n",
    "print(\"Unique Words in tf_idf model: \" + str(len(X_train_Tfidf[0])))"
   ]
  },
  {
   "cell_type": "code",
   "execution_count": 30,
   "metadata": {},
   "outputs": [
    {
     "name": "stdout",
     "output_type": "stream",
     "text": [
      "1783\n",
      "Unique Words in tf_idf model: 1783\n"
     ]
    }
   ],
   "source": [
    "feature_names = vectorizer.get_feature_names()\n",
    "vocab ={}\n",
    "for value,key in enumerate(feature_names):\n",
    "    vocab[key] = value\n",
    "print(len(vocab))\n",
    "\n",
    "vectorizer =  TfidfVectorizer(vocabulary = vocab)\n",
    "X_test_Tfidf = vectorizer.fit_transform(full_test)\n",
    "X_test_Tfidf = X_test_Tfidf.toarray()\n",
    "print(\"Unique Words in tf_idf model: \" + str(len(X_test_Tfidf[0])))"
   ]
  },
  {
   "cell_type": "markdown",
   "metadata": {},
   "source": [
    "## TF_IDF without stop words(optional)"
   ]
  },
  {
   "cell_type": "code",
   "execution_count": 41,
   "metadata": {},
   "outputs": [
    {
     "name": "stdout",
     "output_type": "stream",
     "text": [
      "full train counts : 50002\n",
      "full test counts : 50002\n"
     ]
    }
   ],
   "source": [
    "def remove_stopWords(dataset):\n",
    "    stop_words = stopwords.words('english')\n",
    "    newdataset = []\n",
    "    for data in dataset: \n",
    "        words = nltk.word_tokenize(data)\n",
    "        newdata = \"\"\n",
    "        for w in words:\n",
    "            if w not in stop_words:\n",
    "                newdata += w + \" \"\n",
    "        newdataset.append(newdata)\n",
    "    return newdataset\n",
    "    \n",
    "full_train_nonstop = remove_stopWords(full_train)\n",
    "full_test_nonstop = remove_stopWords(full_test)\n",
    "\n",
    "print(\"full train counts : \" + str(len(full_train_nonstop)))\n",
    "print(\"full test counts : \" + str(len(full_test_nonstop)))   "
   ]
  },
  {
   "cell_type": "code",
   "execution_count": 42,
   "metadata": {},
   "outputs": [
    {
     "name": "stdout",
     "output_type": "stream",
     "text": [
      "prepared turgid talky soap opera cum travelogue pleased find fast paced script underlying moral excellent portrayals actors especially peter finch amazing special effects suspense beautiful cinematography 's even shot majestic stone buddhas recently destroyed taliban . mention elizabeth taylor gloriously beautiful sympathetic gave gaspy hysterics marred later work . supporting players round wonder trained elephants . speaking stone buddha sequence really discern 's vivien leigh long shots . shape way moves distinct taylor 's . thing marring sequence poorly done process shots background moves much fast horses walk . want thought provoking film beautiful watch never boring spend hours elephant walk . \n"
     ]
    }
   ],
   "source": [
    "print(full_train_nonstop[100])"
   ]
  },
  {
   "cell_type": "code",
   "execution_count": 44,
   "metadata": {},
   "outputs": [
    {
     "name": "stdout",
     "output_type": "stream",
     "text": [
      "Unique Words in tf_idf model: 1658\n"
     ]
    }
   ],
   "source": [
    "vectorizer = TfidfVectorizer(max_df = 0.99,min_df = 0.01)\n",
    "X_train_Tfidfnonstop = vectorizer.fit_transform(full_train_nonstop)\n",
    "X_train_Tfidfnonstop = X_train_Tfidfnonstop.toarray()\n",
    "print(\"Unique Words in tf_idf model: \" + str(len(X_train_Tfidfnonstop[0])))"
   ]
  },
  {
   "cell_type": "code",
   "execution_count": 46,
   "metadata": {},
   "outputs": [
    {
     "name": "stdout",
     "output_type": "stream",
     "text": [
      "1658\n",
      "Unique Words in tf_idf model: 1658\n"
     ]
    }
   ],
   "source": [
    "feature_names = vectorizer.get_feature_names()\n",
    "vocab ={}\n",
    "for value,key in enumerate(feature_names):\n",
    "    vocab[key] = value\n",
    "print(len(vocab))\n",
    "\n",
    "vectorizer =  TfidfVectorizer(vocabulary = vocab)\n",
    "X_test_Tfidfnonstop = vectorizer.fit_transform(full_test_nonstop)\n",
    "X_test_Tfidfnonstop = X_test_Tfidfnonstop.toarray()\n",
    "print(\"Unique Words in tf_idf model: \" + str(len(X_test_Tfidfnonstop[0])))"
   ]
  },
  {
   "cell_type": "markdown",
   "metadata": {},
   "source": [
    "## Word2Vec with stop words(optional)"
   ]
  },
  {
   "cell_type": "code",
   "execution_count": null,
   "metadata": {},
   "outputs": [],
   "source": []
  },
  {
   "cell_type": "markdown",
   "metadata": {},
   "source": [
    "## Word2Vec without stop words(optional)"
   ]
  },
  {
   "cell_type": "code",
   "execution_count": null,
   "metadata": {},
   "outputs": [],
   "source": []
  },
  {
   "cell_type": "markdown",
   "metadata": {},
   "source": [
    "# Step 5: Build Classifier\n",
    "Now that we’ve transformed our dataset into a format suitable for modeling, we can start building classifiers."
   ]
  },
  {
   "cell_type": "markdown",
   "metadata": {},
   "source": [
    "## Naive Bayes"
   ]
  },
  {
   "cell_type": "code",
   "execution_count": 10,
   "metadata": {},
   "outputs": [],
   "source": [
    "from sklearn.naive_bayes import MultinomialNB\n",
    "def NaiveBayes(X_train, Y_train, X_test, Y_test):  \n",
    "    clf = MultinomialNB()\n",
    "    clf.fit(X_train, Y_test)\n",
    "    Y_predict = clf.predict(X_test)\n",
    "    return Y_predict"
   ]
  },
  {
   "cell_type": "markdown",
   "metadata": {},
   "source": [
    "## SVM"
   ]
  },
  {
   "cell_type": "code",
   "execution_count": 11,
   "metadata": {},
   "outputs": [],
   "source": [
    "def SVM(X_train, Y_train, X_test, Y_test):\n",
    "    #sklearn.svm.SVC(C=1.0, kernel=’rbf’, degree=3, gamma=’auto_deprecated’, \n",
    "    #coef0=0.0, shrinking=True, probability=False, tol=0.001, cache_size=200, \n",
    "    #class_weight=None, verbose=False, max_iter=-1, decision_function_shape=’ovr’, \n",
    "    #random_state=None)\n",
    "    clf = sklearn.svm.SVC(kernel='linear')\n",
    "    clf.fit(X_train, Y_train) \n",
    "    Y_predict = clf.predict(X_test)\n",
    "    return Y_predict\n"
   ]
  },
  {
   "cell_type": "markdown",
   "metadata": {},
   "source": [
    "## Decision Tree"
   ]
  },
  {
   "cell_type": "code",
   "execution_count": 12,
   "metadata": {},
   "outputs": [],
   "source": [
    "from sklearn.tree import DecisionTreeClassifier\n",
    "def decision_tree(X_train, Y_train, X_test, Y_test):\n",
    "    clf = DecisionTreeClassifier()\n",
    "    clf = clf.fit(X_train, Y_train)\n",
    "    Y_predict = clf.predict(X_test)\n",
    "    return Y_predict\n",
    "    "
   ]
  },
  {
   "cell_type": "markdown",
   "metadata": {},
   "source": [
    "## Random Forest"
   ]
  },
  {
   "cell_type": "code",
   "execution_count": 13,
   "metadata": {},
   "outputs": [],
   "source": [
    "from sklearn.ensemble import RandomForestClassifier\n",
    "def random_forest(X_train, Y_train, X_test, Y_test):\n",
    "    clf = RandomForestClassifier()\n",
    "    clf = clf.fit(X_train, Y_train)\n",
    "    Y_predict = clf.predict(X_test) \n",
    "    return Y_predict"
   ]
  },
  {
   "cell_type": "markdown",
   "metadata": {},
   "source": [
    "# Step 6: Results"
   ]
  },
  {
   "cell_type": "markdown",
   "metadata": {},
   "source": [
    "### Confusion Matrix\n",
    "This function prints and plots the confusion matrix. Normalization can be applied by setting `normalize=True`."
   ]
  },
  {
   "cell_type": "code",
   "execution_count": 14,
   "metadata": {},
   "outputs": [],
   "source": [
    "def plot_confusion_matrix(y_test, y_predict,\n",
    "                          normalize=False,\n",
    "                          title=None,\n",
    "                          cmap=plt.cm.Blues):\n",
    "    if not title:\n",
    "        if normalize:\n",
    "            title = 'Normalized confusion matrix'\n",
    "        else:\n",
    "            title = 'Confusion matrix, without normalization'\n",
    "            \n",
    "    # Compute confusion matrix\n",
    "    cm = sklearn.metrics.confusion_matrix(y_test, y_predict)\n",
    "    \n",
    "    if normalize:\n",
    "        cm = cm.astype('float') / cm.sum(axis=1)[:, np.newaxis]\n",
    "        print(\"Normalized confusion matrix\")\n",
    "    else:\n",
    "        print('Confusion matrix, without normalization')\n",
    "\n",
    "    print(cm)\n",
    "    \n",
    "    fig, ax = plt.subplots()\n",
    "    im = ax.imshow(cm, interpolation='nearest', cmap=cmap)\n",
    "    ax.figure.colorbar(im, ax=ax)\n",
    "    \n",
    "    # We want to show all ticks...\n",
    "    ax.set(xticks=np.arange(cm.shape[1]),\n",
    "           yticks=np.arange(cm.shape[0]),\n",
    "           title=title,\n",
    "           ylabel='True label',\n",
    "           xlabel='Predicted label')\n",
    "\n",
    "    # Rotate the tick labels and set their alignment.\n",
    "    plt.setp(ax.get_xticklabels(), rotation=45, ha=\"right\",\n",
    "             rotation_mode=\"anchor\")\n",
    "\n",
    "    # Loop over data dimensions and create text annotations.\n",
    "    fmt = '.2f' if normalize else 'd'\n",
    "    thresh = cm.max() / 2.\n",
    "    for i in range(cm.shape[0]):\n",
    "        for j in range(cm.shape[1]):\n",
    "            ax.text(j, i, format(cm[i, j], fmt),\n",
    "                    ha=\"center\", va=\"center\",\n",
    "                    color=\"white\" if cm[i, j] > thresh else \"black\")\n",
    "    fig.tight_layout()\n",
    "    plt.show() \n",
    "    return ax    "
   ]
  },
  {
   "cell_type": "markdown",
   "metadata": {},
   "source": [
    "### ROC\n",
    "Receiver operating characteristic.\n",
    "ROC curves typically feature true positive rate on the Y axis, and false positive rate on the X axis. This means that the top left corner of the plot is the “ideal” point - a false positive rate of zero, and a true positive rate of one. This is not very realistic, but it does mean that a larger area under the curve (AUC) is usually better.\n",
    "\n",
    "The “steepness” of ROC curves is also important, since it is ideal to maximize the true positive rate while minimizing the false positive rate."
   ]
  },
  {
   "cell_type": "code",
   "execution_count": 15,
   "metadata": {},
   "outputs": [],
   "source": [
    "def calc_ROC(Y_predict, Y_test):\n",
    "    return sklearn.metrics.roc_curve(Y_test, Y_predict)"
   ]
  },
  {
   "cell_type": "markdown",
   "metadata": {},
   "source": [
    "### AUC\n",
    "Area Under Cover"
   ]
  },
  {
   "cell_type": "code",
   "execution_count": 16,
   "metadata": {},
   "outputs": [],
   "source": [
    "def calc_AUC(Y_predict, Y_test):\n",
    "    fpr, tpr, thresholds = sklearn.metrics.roc_curve(Y_test, Y_predict)\n",
    "    return sklearn.metrics.auc(fpr, tpr)"
   ]
  },
  {
   "cell_type": "markdown",
   "metadata": {},
   "source": [
    "### Precision\n",
    "The precision is the ratio tp / (tp + fp) where tp is the number of true positives and fp the number of false positives. The precision is intuitively the ability of the classifier not to label as positive a sample that is negative.\n",
    "\n",
    "The best value is 1 and the worst value is 0."
   ]
  },
  {
   "cell_type": "code",
   "execution_count": 17,
   "metadata": {},
   "outputs": [],
   "source": [
    "def calc_precision(Y_predict, Y_test):\n",
    "    return sklearn.metrics.precision_score(Y_test, Y_predict)"
   ]
  },
  {
   "cell_type": "markdown",
   "metadata": {},
   "source": [
    "### Recall\n",
    "The recall is the ratio tp / (tp + fn) where tp is the number of true positives and fn the number of false negatives. The recall is intuitively the ability of the classifier to find all the positive samples.\n",
    "\n",
    "The best value is 1 and the worst value is 0."
   ]
  },
  {
   "cell_type": "code",
   "execution_count": 18,
   "metadata": {},
   "outputs": [],
   "source": [
    "def calc_recall(Y_predict, Y_test):\n",
    "    return sklearn.metrics.recall_score(Y_test, Y_predict)"
   ]
  },
  {
   "cell_type": "markdown",
   "metadata": {},
   "source": [
    "### f1_score\n",
    "The F1 score can be interpreted as a weighted average of the precision and recall, where an F1 score reaches its best value at 1 and worst score at 0. The relative contribution of precision and recall to the F1 score are equal. The formula for the F1 score is:\n",
    "\n",
    "$$F1 = \\frac {2 * (precision * recall)}{(precision + recall)}$$"
   ]
  },
  {
   "cell_type": "code",
   "execution_count": 19,
   "metadata": {},
   "outputs": [],
   "source": [
    "def calc_f1score(Y_predict, Y_test):\n",
    "    return sklearn.metrics.f1_score(Y_test, Y_predict)"
   ]
  },
  {
   "cell_type": "markdown",
   "metadata": {},
   "source": [
    "### Train all classifier for BOW\n",
    "Now we train all classifiers with the training and test set which is acheived from BOW."
   ]
  },
  {
   "cell_type": "code",
   "execution_count": 20,
   "metadata": {},
   "outputs": [
    {
     "name": "stdout",
     "output_type": "stream",
     "text": [
      "50002\n",
      "50002\n"
     ]
    }
   ],
   "source": [
    "Y_train = np.array(np.ones(25001).tolist() + np.zeros(25001).tolist())\n",
    "Y_test = np.array(np.ones(25001).tolist() + np.zeros(25001).tolist())\n",
    "\n",
    "print(len(Y_train))\n",
    "print(len(Y_test))"
   ]
  },
  {
   "cell_type": "code",
   "execution_count": 21,
   "metadata": {},
   "outputs": [],
   "source": [
    "Y_predict =  NaiveBayes(X_train_BOW, Y_train, X_train_BOW, Y_test)"
   ]
  },
  {
   "cell_type": "code",
   "execution_count": 22,
   "metadata": {},
   "outputs": [
    {
     "name": "stdout",
     "output_type": "stream",
     "text": [
      "BOW + NaiveBayes : \n",
      "Confusion Matrix = \n",
      "Confusion matrix, without normalization\n",
      "[[20946  4055]\n",
      " [ 4504 20497]]\n"
     ]
    },
    {
     "data": {
      "image/png": "[encoded data removed]",
      "text/plain": [
       "<Figure size 432x288 with 2 Axes>"
      ]
     },
     "metadata": {},
     "output_type": "display_data"
    },
    {
     "name": "stdout",
     "output_type": "stream",
     "text": [
      "ROC = (array([0.        , 0.16219351, 1.        ]), array([0.        , 0.81984721, 1.        ]), array([2., 1., 0.]))\n",
      "AUC = 0.828826846926123\n",
      "Precision = 0.8348403388725969\n",
      "Recall = 0.8198472061117555\n",
      "f1_score = 0.8272758460638105\n"
     ]
    }
   ],
   "source": [
    "print(\"BOW + NaiveBayes : \")\n",
    "print(\"Confusion Matrix = \") \n",
    "plot_confusion_matrix(Y_test, Y_predict)  \n",
    "print(\"ROC = \" + str( calc_ROC(Y_predict, Y_test)))\n",
    "print(\"AUC = \" + str(calc_AUC(Y_predict, Y_test)))\n",
    "print(\"Precision = \" + str(calc_precision(Y_predict, Y_test)))\n",
    "print(\"Recall = \" + str(calc_recall(Y_predict, Y_test)))\n",
    "print(\"f1_score = \" + str(calc_f1score(Y_predict, Y_test)))"
   ]
  },
  {
   "cell_type": "code",
   "execution_count": null,
   "metadata": {},
   "outputs": [],
   "source": [
    "Y_predict =  SVM(X_train_BOW, Y_train, X_test_BOW, Y_test)"
   ]
  },
  {
   "cell_type": "code",
   "execution_count": 74,
   "metadata": {},
   "outputs": [
    {
     "name": "stdout",
     "output_type": "stream",
     "text": [
      "BOW + NaiveBayes : \n",
      "Confusion Matrix = \n",
      "Confusion matrix, without normalization\n",
      "[[20946  4055]\n",
      " [ 4504 20497]]\n"
     ]
    },
    {
     "data": {
      "image/png": "[encoded data removed]",
      "text/plain": [
       "<Figure size 432x288 with 2 Axes>"
      ]
     },
     "metadata": {},
     "output_type": "display_data"
    },
    {
     "name": "stdout",
     "output_type": "stream",
     "text": [
      "ROC = (array([0.        , 0.16219351, 1.        ]), array([0.        , 0.81984721, 1.        ]), array([2., 1., 0.]))\n",
      "AUC = nan\n",
      "Precision = 0.8348403388725969\n",
      "Recall = 0.8198472061117555\n",
      "f1_score = 0.8272758460638105\n"
     ]
    },
    {
     "name": "stderr",
     "output_type": "stream",
     "text": [
      "C:\\Users\\maryam\\Anaconda3\\lib\\site-packages\\sklearn\\metrics\\ranking.py:659: UndefinedMetricWarning: No positive samples in y_true, true positive value should be meaningless\n",
      "  UndefinedMetricWarning)\n"
     ]
    }
   ],
   "source": [
    "print(\"BOW + SVM : \")\n",
    "print(\"Confusion Matrix = \") \n",
    "plot_confusion_matrix(Y_test, Y_predict)  \n",
    "print(\"ROC = \" + str( calc_ROC(Y_predict, Y_test)))\n",
    "print(\"AUC = \" + str(calc_AUC(Y_predict, Y_test)))\n",
    "print(\"Precision = \" + str(calc_precision(Y_predict, Y_test)))\n",
    "print(\"Recall = \" + str(calc_recall(Y_predict, Y_test)))\n",
    "print(\"f1_score = \" + str(calc_f1score(Y_predict, Y_test)))"
   ]
  },
  {
   "cell_type": "code",
   "execution_count": 23,
   "metadata": {},
   "outputs": [],
   "source": [
    "Y_predict =  decision_tree(X_train_BOW, Y_train, X_test_BOW, Y_test)"
   ]
  },
  {
   "cell_type": "code",
   "execution_count": 24,
   "metadata": {},
   "outputs": [
    {
     "name": "stdout",
     "output_type": "stream",
     "text": [
      "BOW + decision_tree : \n",
      "Confusion Matrix = \n",
      "Confusion matrix, without normalization\n",
      "[[17862  7139]\n",
      " [ 7400 17601]]\n"
     ]
    },
    {
     "data": {
      "image/png": "[encoded data removed]",
      "text/plain": [
       "<Figure size 432x288 with 2 Axes>"
      ]
     },
     "metadata": {},
     "output_type": "display_data"
    },
    {
     "name": "stdout",
     "output_type": "stream",
     "text": [
      "ROC = (array([0.        , 0.28554858, 1.        ]), array([0.        , 0.70401184, 1.        ]), array([2., 1., 0.]))\n",
      "AUC = 0.7092316307347706\n",
      "Precision = 0.7114389652384802\n",
      "Recall = 0.704011839526419\n",
      "f1_score = 0.7077059166482379\n"
     ]
    }
   ],
   "source": [
    "print(\"BOW + decision_tree : \")\n",
    "print(\"Confusion Matrix = \") \n",
    "plot_confusion_matrix(Y_test, Y_predict)  \n",
    "print(\"ROC = \" + str( calc_ROC(Y_predict, Y_test)))\n",
    "print(\"AUC = \" + str(calc_AUC(Y_predict, Y_test)))\n",
    "print(\"Precision = \" + str(calc_precision(Y_predict, Y_test)))\n",
    "print(\"Recall = \" + str(calc_recall(Y_predict, Y_test)))\n",
    "print(\"f1_score = \" + str(calc_f1score(Y_predict, Y_test)))"
   ]
  },
  {
   "cell_type": "code",
   "execution_count": 25,
   "metadata": {},
   "outputs": [
    {
     "name": "stderr",
     "output_type": "stream",
     "text": [
      "C:\\Users\\maryam\\Anaconda3\\lib\\site-packages\\sklearn\\ensemble\\forest.py:245: FutureWarning: The default value of n_estimators will change from 10 in version 0.20 to 100 in 0.22.\n",
      "  \"10 in version 0.20 to 100 in 0.22.\", FutureWarning)\n"
     ]
    }
   ],
   "source": [
    "Y_predict =  random_forest(X_train_BOW, Y_train, X_test_BOW, Y_test)"
   ]
  },
  {
   "cell_type": "code",
   "execution_count": 26,
   "metadata": {},
   "outputs": [
    {
     "name": "stdout",
     "output_type": "stream",
     "text": [
      "BOW + random_forest : \n",
      "Confusion Matrix = \n",
      "Confusion matrix, without normalization\n",
      "[[20642  4359]\n",
      " [ 7214 17787]]\n"
     ]
    },
    {
     "data": {
      "image/png": "[encoded data removed]",
      "text/plain": [
       "<Figure size 432x288 with 2 Axes>"
      ]
     },
     "metadata": {},
     "output_type": "display_data"
    },
    {
     "name": "stdout",
     "output_type": "stream",
     "text": [
      "ROC = (array([0.        , 0.17435303, 1.        ]), array([0.        , 0.71145154, 1.        ]), array([2., 1., 0.]))\n",
      "AUC = 0.7685492580296788\n",
      "Precision = 0.8031698726632349\n",
      "Recall = 0.7114515419383225\n",
      "f1_score = 0.75453369249369\n"
     ]
    }
   ],
   "source": [
    "print(\"BOW + random_forest : \")\n",
    "print(\"Confusion Matrix = \") \n",
    "plot_confusion_matrix(Y_test, Y_predict)  \n",
    "print(\"ROC = \" + str( calc_ROC(Y_predict, Y_test)))\n",
    "print(\"AUC = \" + str(calc_AUC(Y_predict, Y_test)))\n",
    "print(\"Precision = \" + str(calc_precision(Y_predict, Y_test)))\n",
    "print(\"Recall = \" + str(calc_recall(Y_predict, Y_test)))\n",
    "print(\"f1_score = \" + str(calc_f1score(Y_predict, Y_test)))"
   ]
  },
  {
   "cell_type": "markdown",
   "metadata": {},
   "source": [
    "### Train all classifier for TF_IDF\n",
    "Now we train all classifiers with the training and test set which is acheived from TF_IDF."
   ]
  },
  {
   "cell_type": "code",
   "execution_count": 31,
   "metadata": {},
   "outputs": [],
   "source": [
    "Y_predict =  NaiveBayes(X_train_Tfidf, Y_train, X_train_Tfidf, Y_test)"
   ]
  },
  {
   "cell_type": "code",
   "execution_count": 32,
   "metadata": {},
   "outputs": [
    {
     "name": "stdout",
     "output_type": "stream",
     "text": [
      "TF_IDF + NaiveBayes : \n",
      "Confusion Matrix = \n",
      "Confusion matrix, without normalization\n",
      "[[21010  3991]\n",
      " [ 3526 21475]]\n"
     ]
    },
    {
     "data": {
      "image/png": "[encoded data removed]",
      "text/plain": [
       "<Figure size 432x288 with 2 Axes>"
      ]
     },
     "metadata": {},
     "output_type": "display_data"
    },
    {
     "name": "stdout",
     "output_type": "stream",
     "text": [
      "ROC = (array([0.        , 0.15963361, 1.        ]), array([0.        , 0.85896564, 1.        ]), array([2., 1., 0.]))\n",
      "AUC = 0.8496660133594657\n",
      "Precision = 0.8432812377287363\n",
      "Recall = 0.8589656413743451\n",
      "f1_score = 0.851051181960489\n"
     ]
    }
   ],
   "source": [
    "print(\"TF_IDF + NaiveBayes : \")\n",
    "print(\"Confusion Matrix = \") \n",
    "plot_confusion_matrix(Y_test, Y_predict)  \n",
    "print(\"ROC = \" + str( calc_ROC(Y_predict, Y_test)))\n",
    "print(\"AUC = \" + str(calc_AUC(Y_predict, Y_test)))\n",
    "print(\"Precision = \" + str(calc_precision(Y_predict, Y_test)))\n",
    "print(\"Recall = \" + str(calc_recall(Y_predict, Y_test)))\n",
    "print(\"f1_score = \" + str(calc_f1score(Y_predict, Y_test)))"
   ]
  },
  {
   "cell_type": "code",
   "execution_count": null,
   "metadata": {},
   "outputs": [],
   "source": [
    "Y_predict =  SVM(X_train_Tfidf, Y_train, X_train_Tfidf, Y_test)"
   ]
  },
  {
   "cell_type": "code",
   "execution_count": null,
   "metadata": {},
   "outputs": [],
   "source": [
    "print(\"TF_IDF + SVM : \")\n",
    "print(\"Confusion Matrix = \") \n",
    "plot_confusion_matrix(Y_test, Y_predict)  \n",
    "print(\"ROC = \" + str( calc_ROC(Y_predict, Y_test)))\n",
    "print(\"AUC = \" + str(calc_AUC(Y_predict, Y_test)))\n",
    "print(\"Precision = \" + str(calc_precision(Y_predict, Y_test)))\n",
    "print(\"Recall = \" + str(calc_recall(Y_predict, Y_test)))\n",
    "print(\"f1_score = \" + str(calc_f1score(Y_predict, Y_test)))"
   ]
  },
  {
   "cell_type": "code",
   "execution_count": 33,
   "metadata": {},
   "outputs": [],
   "source": [
    "Y_predict =  decision_tree(X_train_Tfidf, Y_train, X_train_Tfidf, Y_test)"
   ]
  },
  {
   "cell_type": "code",
   "execution_count": 34,
   "metadata": {},
   "outputs": [
    {
     "name": "stdout",
     "output_type": "stream",
     "text": [
      "TF_IDF + Decision tree : \n",
      "Confusion Matrix = \n",
      "Confusion matrix, without normalization\n",
      "[[25001     0]\n",
      " [    0 25001]]\n"
     ]
    },
    {
     "data": {
      "image/png": "[encoded data removed]",
      "text/plain": [
       "<Figure size 432x288 with 2 Axes>"
      ]
     },
     "metadata": {},
     "output_type": "display_data"
    },
    {
     "name": "stdout",
     "output_type": "stream",
     "text": [
      "ROC = (array([0., 0., 1.]), array([0., 1., 1.]), array([2., 1., 0.]))\n",
      "AUC = 1.0\n",
      "Precision = 1.0\n",
      "Recall = 1.0\n",
      "f1_score = 1.0\n"
     ]
    }
   ],
   "source": [
    "print(\"TF_IDF + Decision tree : \")\n",
    "print(\"Confusion Matrix = \") \n",
    "plot_confusion_matrix(Y_test, Y_predict)  \n",
    "print(\"ROC = \" + str( calc_ROC(Y_predict, Y_test)))\n",
    "print(\"AUC = \" + str(calc_AUC(Y_predict, Y_test)))\n",
    "print(\"Precision = \" + str(calc_precision(Y_predict, Y_test)))\n",
    "print(\"Recall = \" + str(calc_recall(Y_predict, Y_test)))\n",
    "print(\"f1_score = \" + str(calc_f1score(Y_predict, Y_test)))"
   ]
  },
  {
   "cell_type": "code",
   "execution_count": 35,
   "metadata": {},
   "outputs": [
    {
     "name": "stderr",
     "output_type": "stream",
     "text": [
      "C:\\Users\\maryam\\Anaconda3\\lib\\site-packages\\sklearn\\ensemble\\forest.py:245: FutureWarning: The default value of n_estimators will change from 10 in version 0.20 to 100 in 0.22.\n",
      "  \"10 in version 0.20 to 100 in 0.22.\", FutureWarning)\n"
     ]
    }
   ],
   "source": [
    "Y_predict =  random_forest(X_train_Tfidf, Y_train, X_train_Tfidf, Y_test)"
   ]
  },
  {
   "cell_type": "code",
   "execution_count": 36,
   "metadata": {},
   "outputs": [
    {
     "name": "stdout",
     "output_type": "stream",
     "text": [
      "TF_IDF + Random forest : \n",
      "Confusion Matrix = \n",
      "Confusion matrix, without normalization\n",
      "[[25001     0]\n",
      " [    6 24995]]\n"
     ]
    },
    {
     "data": {
      "image/png": "[encoded data removed]",
      "text/plain": [
       "<Figure size 432x288 with 2 Axes>"
      ]
     },
     "metadata": {},
     "output_type": "display_data"
    },
    {
     "name": "stdout",
     "output_type": "stream",
     "text": [
      "ROC = (array([0., 0., 1.]), array([0.        , 0.99976001, 1.        ]), array([2., 1., 0.]))\n",
      "AUC = 0.999880004799808\n",
      "Precision = 1.0\n",
      "Recall = 0.999760009599616\n",
      "f1_score = 0.9998799903992319\n"
     ]
    }
   ],
   "source": [
    "print(\"TF_IDF + Random forest : \")\n",
    "print(\"Confusion Matrix = \") \n",
    "plot_confusion_matrix(Y_test, Y_predict)  \n",
    "print(\"ROC = \" + str( calc_ROC(Y_predict, Y_test)))\n",
    "print(\"AUC = \" + str(calc_AUC(Y_predict, Y_test)))\n",
    "print(\"Precision = \" + str(calc_precision(Y_predict, Y_test)))\n",
    "print(\"Recall = \" + str(calc_recall(Y_predict, Y_test)))\n",
    "print(\"f1_score = \" + str(calc_f1score(Y_predict, Y_test)))"
   ]
  },
  {
   "cell_type": "markdown",
   "metadata": {},
   "source": [
    "### Train all classifier for TF_IDF without stop words\n",
    "Now we train all classifiers with the training and test set which is acheived from TF_IDF without stop words."
   ]
  },
  {
   "cell_type": "code",
   "execution_count": 47,
   "metadata": {},
   "outputs": [],
   "source": [
    "Y_predict =  NaiveBayes(X_train_Tfidfnonstop, Y_train, X_train_Tfidfnonstop, Y_test)"
   ]
  },
  {
   "cell_type": "code",
   "execution_count": 48,
   "metadata": {},
   "outputs": [
    {
     "name": "stdout",
     "output_type": "stream",
     "text": [
      "TF_IDF non stop + NaiveBayes : \n",
      "Confusion Matrix = \n",
      "Confusion matrix, without normalization\n",
      "[[20968  4033]\n",
      " [ 3384 21617]]\n"
     ]
    },
    {
     "data": {
      "image/png": "[encoded data removed]",
      "text/plain": [
       "<Figure size 432x288 with 2 Axes>"
      ]
     },
     "metadata": {},
     "output_type": "display_data"
    },
    {
     "name": "stdout",
     "output_type": "stream",
     "text": [
      "ROC = (array([0.        , 0.16131355, 1.        ]), array([0.        , 0.86464541, 1.        ]), array([2., 1., 0.]))\n",
      "AUC = 0.8516659333626655\n",
      "Precision = 0.8427680311890838\n",
      "Recall = 0.8646454141834327\n",
      "f1_score = 0.8535665633452449\n"
     ]
    }
   ],
   "source": [
    "print(\"TF_IDF non stop + NaiveBayes : \")\n",
    "print(\"Confusion Matrix = \") \n",
    "plot_confusion_matrix(Y_test, Y_predict)  \n",
    "print(\"ROC = \" + str( calc_ROC(Y_predict, Y_test)))\n",
    "print(\"AUC = \" + str(calc_AUC(Y_predict, Y_test)))\n",
    "print(\"Precision = \" + str(calc_precision(Y_predict, Y_test)))\n",
    "print(\"Recall = \" + str(calc_recall(Y_predict, Y_test)))\n",
    "print(\"f1_score = \" + str(calc_f1score(Y_predict, Y_test)))"
   ]
  },
  {
   "cell_type": "code",
   "execution_count": null,
   "metadata": {},
   "outputs": [],
   "source": [
    "Y_predict =  SVM(X_train_Tfidfnonstop, Y_train, X_train_Tfidfnonstop, Y_test)"
   ]
  },
  {
   "cell_type": "code",
   "execution_count": null,
   "metadata": {},
   "outputs": [],
   "source": [
    "print(\"TF_IDF non stop + SVM : \")\n",
    "print(\"Confusion Matrix = \") \n",
    "plot_confusion_matrix(Y_test, Y_predict)  \n",
    "print(\"ROC = \" + str( calc_ROC(Y_predict, Y_test)))\n",
    "print(\"AUC = \" + str(calc_AUC(Y_predict, Y_test)))\n",
    "print(\"Precision = \" + str(calc_precision(Y_predict, Y_test)))\n",
    "print(\"Recall = \" + str(calc_recall(Y_predict, Y_test)))\n",
    "print(\"f1_score = \" + str(calc_f1score(Y_predict, Y_test)))"
   ]
  },
  {
   "cell_type": "code",
   "execution_count": 49,
   "metadata": {},
   "outputs": [],
   "source": [
    "Y_predict =  decision_tree(X_train_Tfidfnonstop, Y_train, X_train_Tfidfnonstop, Y_test)"
   ]
  },
  {
   "cell_type": "code",
   "execution_count": 50,
   "metadata": {},
   "outputs": [
    {
     "name": "stdout",
     "output_type": "stream",
     "text": [
      "TF_IDF non stop + Decision Tree : \n",
      "Confusion Matrix = \n",
      "Confusion matrix, without normalization\n",
      "[[25001     0]\n",
      " [    0 25001]]\n"
     ]
    },
    {
     "data": {
      "image/png": "[encoded data removed]",
      "text/plain": [
       "<Figure size 432x288 with 2 Axes>"
      ]
     },
     "metadata": {},
     "output_type": "display_data"
    },
    {
     "name": "stdout",
     "output_type": "stream",
     "text": [
      "ROC = (array([0., 0., 1.]), array([0., 1., 1.]), array([2., 1., 0.]))\n",
      "AUC = 1.0\n",
      "Precision = 1.0\n",
      "Recall = 1.0\n",
      "f1_score = 1.0\n"
     ]
    }
   ],
   "source": [
    "print(\"TF_IDF non stop + Decision Tree : \")\n",
    "print(\"Confusion Matrix = \") \n",
    "plot_confusion_matrix(Y_test, Y_predict)  \n",
    "print(\"ROC = \" + str( calc_ROC(Y_predict, Y_test)))\n",
    "print(\"AUC = \" + str(calc_AUC(Y_predict, Y_test)))\n",
    "print(\"Precision = \" + str(calc_precision(Y_predict, Y_test)))\n",
    "print(\"Recall = \" + str(calc_recall(Y_predict, Y_test)))\n",
    "print(\"f1_score = \" + str(calc_f1score(Y_predict, Y_test)))"
   ]
  },
  {
   "cell_type": "code",
   "execution_count": 51,
   "metadata": {},
   "outputs": [
    {
     "name": "stderr",
     "output_type": "stream",
     "text": [
      "C:\\Users\\maryam\\Anaconda3\\lib\\site-packages\\sklearn\\ensemble\\forest.py:245: FutureWarning: The default value of n_estimators will change from 10 in version 0.20 to 100 in 0.22.\n",
      "  \"10 in version 0.20 to 100 in 0.22.\", FutureWarning)\n"
     ]
    }
   ],
   "source": [
    "Y_predict =  random_forest(X_train_Tfidfnonstop, Y_train, X_train_Tfidfnonstop, Y_test)"
   ]
  },
  {
   "cell_type": "code",
   "execution_count": 52,
   "metadata": {},
   "outputs": [
    {
     "name": "stdout",
     "output_type": "stream",
     "text": [
      "TF_IDF non stop + Random forest : \n",
      "Confusion Matrix = \n",
      "Confusion matrix, without normalization\n",
      "[[25001     0]\n",
      " [    8 24993]]\n"
     ]
    },
    {
     "data": {
      "image/png": "[encoded data removed]",
      "text/plain": [
       "<Figure size 432x288 with 2 Axes>"
      ]
     },
     "metadata": {},
     "output_type": "display_data"
    },
    {
     "name": "stdout",
     "output_type": "stream",
     "text": [
      "ROC = (array([0., 0., 1.]), array([0.        , 0.99968001, 1.        ]), array([2., 1., 0.]))\n",
      "AUC = 0.999840006399744\n",
      "Precision = 1.0\n",
      "Recall = 0.999680012799488\n",
      "f1_score = 0.9998399807976958\n"
     ]
    }
   ],
   "source": [
    "print(\"TF_IDF non stop + Random forest : \")\n",
    "print(\"Confusion Matrix = \") \n",
    "plot_confusion_matrix(Y_test, Y_predict)  \n",
    "print(\"ROC = \" + str( calc_ROC(Y_predict, Y_test)))\n",
    "print(\"AUC = \" + str(calc_AUC(Y_predict, Y_test)))\n",
    "print(\"Precision = \" + str(calc_precision(Y_predict, Y_test)))\n",
    "print(\"Recall = \" + str(calc_recall(Y_predict, Y_test)))\n",
    "print(\"f1_score = \" + str(calc_f1score(Y_predict, Y_test)))"
   ]
  },
  {
   "cell_type": "code",
   "execution_count": null,
   "metadata": {},
   "outputs": [],
   "source": []
  }
 ],
 "metadata": {
  "kernelspec": {
   "display_name": "Python 3",
   "language": "python",
   "name": "python3"
  },
  "language_info": {
   "codemirror_mode": {
    "name": "ipython",
    "version": 3
   },
   "file_extension": ".py",
   "mimetype": "text/x-python",
   "name": "python",
   "nbconvert_exporter": "python",
   "pygments_lexer": "ipython3",
   "version": "3.6.4"
  }
 },
 "nbformat": 4,
 "nbformat_minor": 2
}
